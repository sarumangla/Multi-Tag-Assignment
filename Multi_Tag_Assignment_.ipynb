{
  "cells": [
    {
      "cell_type": "markdown",
      "metadata": {
        "id": "6Lry3JEDes8F"
      },
      "source": [
        "```\n",
        "Here in this colab file, I have executed 2 models 1. Custom token embedding  2. token + char + positional embedding \n",
        
        "```"
      ]
    },
    {
      "cell_type": "code",
      "execution_count": null,
      "metadata": {
        "colab": {
          "base_uri": "https://localhost:8080/"
        },
        "id": "XHZqENAQzB6u",
        "outputId": "16b475b7-0b84-4449-c418-1dc83228720a"
      },
      "outputs": [
        {
          "output_type": "stream",
          "name": "stdout",
          "text": [
            "Mounted at /content/drive\n"
          ]
        }
      ],
      "source": [
        "from google.colab import drive\n",
        "drive.mount('/content/drive')"
      ]
    },
    {
      "cell_type": "code",
      "execution_count": null,
      "metadata": {
        "colab": {
          "base_uri": "https://localhost:8080/"
        },
        "id": "eyZgx1tLfLOF",
        "outputId": "4851629f-4ec9-4399-b636-324cc24b9e23"
      },
      "outputs": [
        {
          "output_type": "stream",
          "name": "stdout",
          "text": [
            "GPU 0: Tesla T4 (UUID: GPU-b688e33b-db2b-2393-91a7-b62830900111)\n"
          ]
        }
      ],
      "source": [
        "!nvidia-smi -L"
      ]
    },
    {
      "cell_type": "markdown",
      "metadata": {
        "id": "aIg7atbGfi7v"
      },
      "source": [
        "## Get the Data"
      ]
    },
    {
      "cell_type": "code",
      "execution_count": null,
      "metadata": {
        "colab": {
          "base_uri": "https://localhost:8080/"
        },
        "id": "q4Z2gebCflWT",
        "outputId": "b18ffc69-1c92-4196-fd3d-1a8a617ca040"
      },
      "outputs": [
        {
          "output_type": "stream",
          "name": "stdout",
          "text": [
            "Cloning into 'pubmed-rct'...\n",
            "remote: Enumerating objects: 33, done.\u001b[K\n",
            "remote: Counting objects: 100% (8/8), done.\u001b[K\n",
            "remote: Compressing objects: 100% (3/3), done.\u001b[K\n",
            "remote: Total 33 (delta 5), reused 5 (delta 5), pack-reused 25\u001b[K\n",
            "Unpacking objects: 100% (33/33), done.\n",
            "PubMed_200k_RCT\n",
            "PubMed_200k_RCT_numbers_replaced_with_at_sign\n",
            "PubMed_20k_RCT\n",
            "PubMed_20k_RCT_numbers_replaced_with_at_sign\n",
            "README.md\n"
          ]
        }
      ],
      "source": [
        "!git clone https://github.com/Franck-Dernoncourt/pubmed-rct\n",
        "!ls pubmed-rct"
      ]
    },
    {
      "cell_type": "code",
      "execution_count": null,
      "metadata": {
        "colab": {
          "base_uri": "https://localhost:8080/"
        },
        "id": "gE7cxtbDfnqM",
        "outputId": "d586b5a8-9b67-40f6-e874-d93d7d1de0da"
      },
      "outputs": [
        {
          "output_type": "stream",
          "name": "stdout",
          "text": [
            "dev.txt  test.txt  train.zip\n"
          ]
        }
      ],
      "source": [
        "!ls /content/pubmed-rct/PubMed_200k_RCT_numbers_replaced_with_at_sign"
      ]
    },
    {
      "cell_type": "code",
      "execution_count": null,
      "metadata": {
        "id": "_CMXpJXAfwsb"
      },
      "outputs": [],
      "source": [
        "data_dir = \"/content/pubmed-rct/PubMed_200k_RCT_numbers_replaced_with_at_sign/\""
      ]
    },
    {
      "cell_type": "code",
      "execution_count": null,
      "metadata": {
        "colab": {
          "base_uri": "https://localhost:8080/"
        },
        "id": "fvBirpLhfzYE",
        "outputId": "7ca672cf-5097-414d-9f93-bb503bf965e3"
      },
      "outputs": [
        {
          "output_type": "execute_result",
          "data": {
            "text/plain": [
              "['/content/pubmed-rct/PubMed_200k_RCT_numbers_replaced_with_at_sign/train.zip',\n",
              " '/content/pubmed-rct/PubMed_200k_RCT_numbers_replaced_with_at_sign/test.txt',\n",
              " '/content/pubmed-rct/PubMed_200k_RCT_numbers_replaced_with_at_sign/dev.txt']"
            ]
          },
          "metadata": {},
          "execution_count": 6
        }
      ],
      "source": [
        "import os\n",
        "\n",
        "filenames = [data_dir + filename for filename in os.listdir(data_dir)]\n",
        "filenames"
      ]
    },
    {
      "cell_type": "code",
      "execution_count": null,
      "metadata": {
        "id": "G8QuDnTof2II"
      },
      "outputs": [],
      "source": [
        "!wget https://raw.githubusercontent.com/sarumangla/Multi-Tag-Assignment/master/helperfunctions.py\n",
        "\n",
        "from helperfunctions import calculate_results,unzip_data,create_tensorboard_callback, plot_loss_curves"
      ]
    },
    {
      "cell_type": "code",
      "execution_count": null,
      "metadata": {
        "id": "3ij9XE3SgIo4"
      },
      "outputs": [],
      "source": [
        "unzip_data(\"/content/pubmed-rct/PubMed_200k_RCT_numbers_replaced_with_at_sign/train.zip\")"
      ]
    },
    {
      "cell_type": "code",
      "execution_count": null,
      "metadata": {
        "id": "OjXG0-zzgSwi"
      },
      "outputs": [],
      "source": [
        "!cp \"/content/train.txt\" \"/content/pubmed-rct/PubMed_200k_RCT_numbers_replaced_with_at_sign/\""
      ]
    },
    {
      "cell_type": "code",
      "execution_count": null,
      "metadata": {
        "colab": {
          "base_uri": "https://localhost:8080/"
        },
        "id": "1o9ULA7kgkSu",
        "outputId": "aac31490-3743-4e10-b8ee-cda57e5ff0a6"
      },
      "outputs": [
        {
          "output_type": "execute_result",
          "data": {
            "text/plain": [
              "['/content/pubmed-rct/PubMed_200k_RCT_numbers_replaced_with_at_sign/train.zip',\n",
              " '/content/pubmed-rct/PubMed_200k_RCT_numbers_replaced_with_at_sign/train.txt',\n",
              " '/content/pubmed-rct/PubMed_200k_RCT_numbers_replaced_with_at_sign/test.txt',\n",
              " '/content/pubmed-rct/PubMed_200k_RCT_numbers_replaced_with_at_sign/dev.txt']"
            ]
          },
          "metadata": {},
          "execution_count": 10
        }
      ],
      "source": [
        "import os\n",
        "\n",
        "filenames = [data_dir + filename for filename in os.listdir(data_dir)]\n",
        "filenames"
      ]
    },
    {
      "cell_type": "markdown",
      "metadata": {
        "id": "bxNWdkGqgnSG"
      },
      "source": [
        "## Becoming One with data"
      ]
    },
    {
      "cell_type": "code",
      "execution_count": null,
      "metadata": {
        "id": "WqwZ81NVgsgx"
      },
      "outputs": [],
      "source": [
        "# Create function to read lines of a document\n",
        "def get_lines(filename):\n",
        "    \"\"\"\n",
        "    Reads filename(.txt) and returns the lines of text as a list.\n",
        "    \"\"\"\n",
        "    with open(filename,'r') as f:\n",
        "        return f.readlines()"
      ]
    },
    {
      "cell_type": "code",
      "execution_count": null,
      "metadata": {
        "colab": {
          "base_uri": "https://localhost:8080/"
        },
        "id": "Nztyt6G6gvZo",
        "outputId": "37914279-95af-43c2-a74c-d9483e584d51"
      },
      "outputs": [
        {
          "output_type": "execute_result",
          "data": {
            "text/plain": [
              "['###24491034\\n',\n",
              " 'BACKGROUND\\tThe emergence of HIV as a chronic condition means that people living with HIV are required to take more responsibility for the self-management of their condition , including making physical , emotional and social adjustments .\\n',\n",
              " 'BACKGROUND\\tThis paper describes the design and evaluation of Positive Outlook , an online program aiming to enhance the self-management skills of gay men living with HIV .\\n',\n",
              " 'METHODS\\tThis study is designed as a randomised controlled trial in which men living with HIV in Australia will be assigned to either an intervention group or usual care control group .\\n',\n",
              " \"METHODS\\tThe intervention group will participate in the online group program ` Positive Outlook ' .\\n\",\n",
              " 'METHODS\\tThe program is based on self-efficacy theory and uses a self-management approach to enhance skills , confidence and abilities to manage the psychosocial issues associated with HIV in daily life .\\n',\n",
              " 'METHODS\\tParticipants will access the program for a minimum of @ minutes per week over seven weeks .\\n',\n",
              " 'METHODS\\tPrimary outcomes are domain specific self-efficacy , HIV related quality of life , and outcomes of health education .\\n',\n",
              " 'METHODS\\tSecondary outcomes include : depression , anxiety and stress ; general health and quality of life ; adjustment to HIV ; and social support .\\n',\n",
              " 'METHODS\\tData collection will take place at baseline , completion of the intervention ( or eight weeks post randomisation ) and at @ week follow-up .\\n',\n",
              " 'CONCLUSIONS\\tResults of the Positive Outlook study will provide information regarding the effectiveness of online group programs improving health related outcomes for men living with HIV .\\n',\n",
              " 'BACKGROUND\\tACTRN@ .\\n',\n",
              " '\\n',\n",
              " '###20497432\\n',\n",
              " 'BACKGROUND\\tThe aim of this study was to evaluate the efficacy , safety and complications of orbital steroid injection versus oral steroid therapy in the management of thyroid-related ophthalmopathy .\\n',\n",
              " 'METHODS\\tA total of @ patients suffering from thyroid ophthalmopathy were included in this study .\\n',\n",
              " 'METHODS\\tPatients were randomized into two groups : group I included @ patients treated with oral prednisolone and group II included @ patients treated with peribulbar triamcinolone orbital injection .\\n',\n",
              " 'METHODS\\tOnly @ patients in both groups ( @ female and @ male ) completed the study .\\n',\n",
              " 'RESULTS\\tBoth groups showed improvement in symptoms and in clinical evidence of inflammation with improvement of eye movement and proptosis in most cases .\\n',\n",
              " 'RESULTS\\tMean exophthalmometry value before treatment was @ @ mm that decreased to @ @ mm in group I , compared with @ @ mm that decreased to @ @ mm in group II .\\n']"
            ]
          },
          "metadata": {},
          "execution_count": 12
        }
      ],
      "source": [
        "train_lines = get_lines(data_dir+\"train.txt\")\n",
        "train_lines[:20]"
      ]
    },
    {
      "cell_type": "code",
      "execution_count": null,
      "metadata": {
        "colab": {
          "base_uri": "https://localhost:8080/"
        },
        "id": "5SD8Q8Nngx8Y",
        "outputId": "1d36a1b1-760d-4811-f37f-f14e5b880ef6"
      },
      "outputs": [
        {
          "output_type": "execute_result",
          "data": {
            "text/plain": [
              "2593169"
            ]
          },
          "metadata": {},
          "execution_count": 13
        }
      ],
      "source": [
        "len(train_lines)"
      ]
    },
    {
      "cell_type": "markdown",
      "metadata": {
        "id": "nN9WupnDg2pa"
      },
      "source": [
        "## Preprocessing data"
      ]
    },
    {
      "cell_type": "code",
      "execution_count": null,
      "metadata": {
        "id": "YLEb808Yg7om"
      },
      "outputs": [],
      "source": [
        "def preprocess_text(filename):\n",
        "    \"\"\"\n",
        "    Returns a list of dictionary of abstract line data\n",
        "    \"\"\"\n",
        "    input_lines = get_lines(filename)\n",
        "    abstract_lines = \"\"\n",
        "    abstract_samples = []\n",
        "\n",
        "    for line in input_lines:\n",
        "        if line.startswith(\"###\"):\n",
        "            abstract_id = line\n",
        "            abstract_lines = \"\"\n",
        "        elif line.isspace():\n",
        "            abstract_lines_split = abstract_lines.splitlines()\n",
        "\n",
        "            for abstract_ln_no, abstract_ln in enumerate(abstract_lines_split):\n",
        "                data = {}\n",
        "                target_text_split = abstract_ln.split(\"\\t\")\n",
        "                data[\"target\"] = target_text_split[0]\n",
        "                data[\"text\"] = target_text_split[1].lower()\n",
        "                data[\"line_number\"] = abstract_ln_no\n",
        "                data[\"total_lines\"] = len(abstract_lines_split) - 1\n",
        "                abstract_samples.append(data)\n",
        "        else:\n",
        "            abstract_lines += line\n",
        "\n",
        "    return abstract_samples"
      ]
    },
    {
      "cell_type": "code",
      "execution_count": null,
      "metadata": {
        "colab": {
          "base_uri": "https://localhost:8080/"
        },
        "id": "Loi9rM3Qg-PX",
        "outputId": "fbd3565a-df68-4b73-bfd5-3250700b5f3e"
      },
      "outputs": [
        {
          "output_type": "stream",
          "name": "stdout",
          "text": [
            "2211861 28932 29493\n"
          ]
        }
      ],
      "source": [
        "val_samples = preprocess_text(data_dir + \"dev.txt\")\n",
        "train_samples = preprocess_text(data_dir + \"train.txt\")\n",
        "test_samples = preprocess_text(data_dir + \"test.txt\")\n",
        "print(len(train_samples),len(val_samples),len(test_samples))"
      ]
    },
    {
      "cell_type": "code",
      "execution_count": null,
      "metadata": {
        "colab": {
          "base_uri": "https://localhost:8080/"
        },
        "id": "s5Yg0UQnhDZX",
        "outputId": "381f2a2f-7640-4b41-d643-204dfc18faeb"
      },
      "outputs": [
        {
          "output_type": "execute_result",
          "data": {
            "text/plain": [
              "[{'line_number': 0,\n",
              "  'target': 'BACKGROUND',\n",
              "  'text': 'the emergence of hiv as a chronic condition means that people living with hiv are required to take more responsibility for the self-management of their condition , including making physical , emotional and social adjustments .',\n",
              "  'total_lines': 10},\n",
              " {'line_number': 1,\n",
              "  'target': 'BACKGROUND',\n",
              "  'text': 'this paper describes the design and evaluation of positive outlook , an online program aiming to enhance the self-management skills of gay men living with hiv .',\n",
              "  'total_lines': 10},\n",
              " {'line_number': 2,\n",
              "  'target': 'METHODS',\n",
              "  'text': 'this study is designed as a randomised controlled trial in which men living with hiv in australia will be assigned to either an intervention group or usual care control group .',\n",
              "  'total_lines': 10},\n",
              " {'line_number': 3,\n",
              "  'target': 'METHODS',\n",
              "  'text': \"the intervention group will participate in the online group program ` positive outlook ' .\",\n",
              "  'total_lines': 10},\n",
              " {'line_number': 4,\n",
              "  'target': 'METHODS',\n",
              "  'text': 'the program is based on self-efficacy theory and uses a self-management approach to enhance skills , confidence and abilities to manage the psychosocial issues associated with hiv in daily life .',\n",
              "  'total_lines': 10},\n",
              " {'line_number': 5,\n",
              "  'target': 'METHODS',\n",
              "  'text': 'participants will access the program for a minimum of @ minutes per week over seven weeks .',\n",
              "  'total_lines': 10},\n",
              " {'line_number': 6,\n",
              "  'target': 'METHODS',\n",
              "  'text': 'primary outcomes are domain specific self-efficacy , hiv related quality of life , and outcomes of health education .',\n",
              "  'total_lines': 10},\n",
              " {'line_number': 7,\n",
              "  'target': 'METHODS',\n",
              "  'text': 'secondary outcomes include : depression , anxiety and stress ; general health and quality of life ; adjustment to hiv ; and social support .',\n",
              "  'total_lines': 10},\n",
              " {'line_number': 8,\n",
              "  'target': 'METHODS',\n",
              "  'text': 'data collection will take place at baseline , completion of the intervention ( or eight weeks post randomisation ) and at @ week follow-up .',\n",
              "  'total_lines': 10},\n",
              " {'line_number': 9,\n",
              "  'target': 'CONCLUSIONS',\n",
              "  'text': 'results of the positive outlook study will provide information regarding the effectiveness of online group programs improving health related outcomes for men living with hiv .',\n",
              "  'total_lines': 10}]"
            ]
          },
          "metadata": {},
          "execution_count": 16
        }
      ],
      "source": [
        "train_samples[:10]"
      ]
    },
    {
      "cell_type": "code",
      "execution_count": null,
      "metadata": {
        "colab": {
          "base_uri": "https://localhost:8080/",
          "height": 676
        },
        "id": "IRKbSVVOhIAI",
        "outputId": "73815021-ccc7-41f6-db07-30b06ff0ae1c"
      },
      "outputs": [
        {
          "output_type": "execute_result",
          "data": {
            "text/plain": [
              "         target                                               text  \\\n",
              "0    BACKGROUND  the emergence of hiv as a chronic condition me...   \n",
              "1    BACKGROUND  this paper describes the design and evaluation...   \n",
              "2       METHODS  this study is designed as a randomised control...   \n",
              "3       METHODS  the intervention group will participate in the...   \n",
              "4       METHODS  the program is based on self-efficacy theory a...   \n",
              "5       METHODS  participants will access the program for a min...   \n",
              "6       METHODS  primary outcomes are domain specific self-effi...   \n",
              "7       METHODS  secondary outcomes include : depression , anxi...   \n",
              "8       METHODS  data collection will take place at baseline , ...   \n",
              "9   CONCLUSIONS  results of the positive outlook study will pro...   \n",
              "10   BACKGROUND                                           actrn@ .   \n",
              "11   BACKGROUND  the aim of this study was to evaluate the effi...   \n",
              "12      METHODS  a total of @ patients suffering from thyroid o...   \n",
              "13      METHODS  patients were randomized into two groups : gro...   \n",
              "14      METHODS  only @ patients in both groups ( @ female and ...   \n",
              "15      RESULTS  both groups showed improvement in symptoms and...   \n",
              "16      RESULTS  mean exophthalmometry value before treatment w...   \n",
              "17      RESULTS  mean initial clinical activity score was @ @ a...   \n",
              "18      RESULTS  there was no change in the best-corrected visu...   \n",
              "19      RESULTS  there was an increase in body weight , blood s...   \n",
              "\n",
              "    line_number  total_lines  \n",
              "0             0           10  \n",
              "1             1           10  \n",
              "2             2           10  \n",
              "3             3           10  \n",
              "4             4           10  \n",
              "5             5           10  \n",
              "6             6           10  \n",
              "7             7           10  \n",
              "8             8           10  \n",
              "9             9           10  \n",
              "10           10           10  \n",
              "11            0           11  \n",
              "12            1           11  \n",
              "13            2           11  \n",
              "14            3           11  \n",
              "15            4           11  \n",
              "16            5           11  \n",
              "17            6           11  \n",
              "18            7           11  \n",
              "19            8           11  "
            ],
            "text/html": [
              "\n",
              "  <div id=\"df-042456eb-1c1a-4f8e-b018-d04c37ac1f36\">\n",
              "    <div class=\"colab-df-container\">\n",
              "      <div>\n",
              "<style scoped>\n",
              "    .dataframe tbody tr th:only-of-type {\n",
              "        vertical-align: middle;\n",
              "    }\n",
              "\n",
              "    .dataframe tbody tr th {\n",
              "        vertical-align: top;\n",
              "    }\n",
              "\n",
              "    .dataframe thead th {\n",
              "        text-align: right;\n",
              "    }\n",
              "</style>\n",
              "<table border=\"1\" class=\"dataframe\">\n",
              "  <thead>\n",
              "    <tr style=\"text-align: right;\">\n",
              "      <th></th>\n",
              "      <th>target</th>\n",
              "      <th>text</th>\n",
              "      <th>line_number</th>\n",
              "      <th>total_lines</th>\n",
              "    </tr>\n",
              "  </thead>\n",
              "  <tbody>\n",
              "    <tr>\n",
              "      <th>0</th>\n",
              "      <td>BACKGROUND</td>\n",
              "      <td>the emergence of hiv as a chronic condition me...</td>\n",
              "      <td>0</td>\n",
              "      <td>10</td>\n",
              "    </tr>\n",
              "    <tr>\n",
              "      <th>1</th>\n",
              "      <td>BACKGROUND</td>\n",
              "      <td>this paper describes the design and evaluation...</td>\n",
              "      <td>1</td>\n",
              "      <td>10</td>\n",
              "    </tr>\n",
              "    <tr>\n",
              "      <th>2</th>\n",
              "      <td>METHODS</td>\n",
              "      <td>this study is designed as a randomised control...</td>\n",
              "      <td>2</td>\n",
              "      <td>10</td>\n",
              "    </tr>\n",
              "    <tr>\n",
              "      <th>3</th>\n",
              "      <td>METHODS</td>\n",
              "      <td>the intervention group will participate in the...</td>\n",
              "      <td>3</td>\n",
              "      <td>10</td>\n",
              "    </tr>\n",
              "    <tr>\n",
              "      <th>4</th>\n",
              "      <td>METHODS</td>\n",
              "      <td>the program is based on self-efficacy theory a...</td>\n",
              "      <td>4</td>\n",
              "      <td>10</td>\n",
              "    </tr>\n",
              "    <tr>\n",
              "      <th>5</th>\n",
              "      <td>METHODS</td>\n",
              "      <td>participants will access the program for a min...</td>\n",
              "      <td>5</td>\n",
              "      <td>10</td>\n",
              "    </tr>\n",
              "    <tr>\n",
              "      <th>6</th>\n",
              "      <td>METHODS</td>\n",
              "      <td>primary outcomes are domain specific self-effi...</td>\n",
              "      <td>6</td>\n",
              "      <td>10</td>\n",
              "    </tr>\n",
              "    <tr>\n",
              "      <th>7</th>\n",
              "      <td>METHODS</td>\n",
              "      <td>secondary outcomes include : depression , anxi...</td>\n",
              "      <td>7</td>\n",
              "      <td>10</td>\n",
              "    </tr>\n",
              "    <tr>\n",
              "      <th>8</th>\n",
              "      <td>METHODS</td>\n",
              "      <td>data collection will take place at baseline , ...</td>\n",
              "      <td>8</td>\n",
              "      <td>10</td>\n",
              "    </tr>\n",
              "    <tr>\n",
              "      <th>9</th>\n",
              "      <td>CONCLUSIONS</td>\n",
              "      <td>results of the positive outlook study will pro...</td>\n",
              "      <td>9</td>\n",
              "      <td>10</td>\n",
              "    </tr>\n",
              "    <tr>\n",
              "      <th>10</th>\n",
              "      <td>BACKGROUND</td>\n",
              "      <td>actrn@ .</td>\n",
              "      <td>10</td>\n",
              "      <td>10</td>\n",
              "    </tr>\n",
              "    <tr>\n",
              "      <th>11</th>\n",
              "      <td>BACKGROUND</td>\n",
              "      <td>the aim of this study was to evaluate the effi...</td>\n",
              "      <td>0</td>\n",
              "      <td>11</td>\n",
              "    </tr>\n",
              "    <tr>\n",
              "      <th>12</th>\n",
              "      <td>METHODS</td>\n",
              "      <td>a total of @ patients suffering from thyroid o...</td>\n",
              "      <td>1</td>\n",
              "      <td>11</td>\n",
              "    </tr>\n",
              "    <tr>\n",
              "      <th>13</th>\n",
              "      <td>METHODS</td>\n",
              "      <td>patients were randomized into two groups : gro...</td>\n",
              "      <td>2</td>\n",
              "      <td>11</td>\n",
              "    </tr>\n",
              "    <tr>\n",
              "      <th>14</th>\n",
              "      <td>METHODS</td>\n",
              "      <td>only @ patients in both groups ( @ female and ...</td>\n",
              "      <td>3</td>\n",
              "      <td>11</td>\n",
              "    </tr>\n",
              "    <tr>\n",
              "      <th>15</th>\n",
              "      <td>RESULTS</td>\n",
              "      <td>both groups showed improvement in symptoms and...</td>\n",
              "      <td>4</td>\n",
              "      <td>11</td>\n",
              "    </tr>\n",
              "    <tr>\n",
              "      <th>16</th>\n",
              "      <td>RESULTS</td>\n",
              "      <td>mean exophthalmometry value before treatment w...</td>\n",
              "      <td>5</td>\n",
              "      <td>11</td>\n",
              "    </tr>\n",
              "    <tr>\n",
              "      <th>17</th>\n",
              "      <td>RESULTS</td>\n",
              "      <td>mean initial clinical activity score was @ @ a...</td>\n",
              "      <td>6</td>\n",
              "      <td>11</td>\n",
              "    </tr>\n",
              "    <tr>\n",
              "      <th>18</th>\n",
              "      <td>RESULTS</td>\n",
              "      <td>there was no change in the best-corrected visu...</td>\n",
              "      <td>7</td>\n",
              "      <td>11</td>\n",
              "    </tr>\n",
              "    <tr>\n",
              "      <th>19</th>\n",
              "      <td>RESULTS</td>\n",
              "      <td>there was an increase in body weight , blood s...</td>\n",
              "      <td>8</td>\n",
              "      <td>11</td>\n",
              "    </tr>\n",
              "  </tbody>\n",
              "</table>\n",
              "</div>\n",
              "      <button class=\"colab-df-convert\" onclick=\"convertToInteractive('df-042456eb-1c1a-4f8e-b018-d04c37ac1f36')\"\n",
              "              title=\"Convert this dataframe to an interactive table.\"\n",
              "              style=\"display:none;\">\n",
              "        \n",
              "  <svg xmlns=\"http://www.w3.org/2000/svg\" height=\"24px\"viewBox=\"0 0 24 24\"\n",
              "       width=\"24px\">\n",
              "    <path d=\"M0 0h24v24H0V0z\" fill=\"none\"/>\n",
              "    <path d=\"M18.56 5.44l.94 2.06.94-2.06 2.06-.94-2.06-.94-.94-2.06-.94 2.06-2.06.94zm-11 1L8.5 8.5l.94-2.06 2.06-.94-2.06-.94L8.5 2.5l-.94 2.06-2.06.94zm10 10l.94 2.06.94-2.06 2.06-.94-2.06-.94-.94-2.06-.94 2.06-2.06.94z\"/><path d=\"M17.41 7.96l-1.37-1.37c-.4-.4-.92-.59-1.43-.59-.52 0-1.04.2-1.43.59L10.3 9.45l-7.72 7.72c-.78.78-.78 2.05 0 2.83L4 21.41c.39.39.9.59 1.41.59.51 0 1.02-.2 1.41-.59l7.78-7.78 2.81-2.81c.8-.78.8-2.07 0-2.86zM5.41 20L4 18.59l7.72-7.72 1.47 1.35L5.41 20z\"/>\n",
              "  </svg>\n",
              "      </button>\n",
              "      \n",
              "  <style>\n",
              "    .colab-df-container {\n",
              "      display:flex;\n",
              "      flex-wrap:wrap;\n",
              "      gap: 12px;\n",
              "    }\n",
              "\n",
              "    .colab-df-convert {\n",
              "      background-color: #E8F0FE;\n",
              "      border: none;\n",
              "      border-radius: 50%;\n",
              "      cursor: pointer;\n",
              "      display: none;\n",
              "      fill: #1967D2;\n",
              "      height: 32px;\n",
              "      padding: 0 0 0 0;\n",
              "      width: 32px;\n",
              "    }\n",
              "\n",
              "    .colab-df-convert:hover {\n",
              "      background-color: #E2EBFA;\n",
              "      box-shadow: 0px 1px 2px rgba(60, 64, 67, 0.3), 0px 1px 3px 1px rgba(60, 64, 67, 0.15);\n",
              "      fill: #174EA6;\n",
              "    }\n",
              "\n",
              "    [theme=dark] .colab-df-convert {\n",
              "      background-color: #3B4455;\n",
              "      fill: #D2E3FC;\n",
              "    }\n",
              "\n",
              "    [theme=dark] .colab-df-convert:hover {\n",
              "      background-color: #434B5C;\n",
              "      box-shadow: 0px 1px 3px 1px rgba(0, 0, 0, 0.15);\n",
              "      filter: drop-shadow(0px 1px 2px rgba(0, 0, 0, 0.3));\n",
              "      fill: #FFFFFF;\n",
              "    }\n",
              "  </style>\n",
              "\n",
              "      <script>\n",
              "        const buttonEl =\n",
              "          document.querySelector('#df-042456eb-1c1a-4f8e-b018-d04c37ac1f36 button.colab-df-convert');\n",
              "        buttonEl.style.display =\n",
              "          google.colab.kernel.accessAllowed ? 'block' : 'none';\n",
              "\n",
              "        async function convertToInteractive(key) {\n",
              "          const element = document.querySelector('#df-042456eb-1c1a-4f8e-b018-d04c37ac1f36');\n",
              "          const dataTable =\n",
              "            await google.colab.kernel.invokeFunction('convertToInteractive',\n",
              "                                                     [key], {});\n",
              "          if (!dataTable) return;\n",
              "\n",
              "          const docLinkHtml = 'Like what you see? Visit the ' +\n",
              "            '<a target=\"_blank\" href=https://colab.research.google.com/notebooks/data_table.ipynb>data table notebook</a>'\n",
              "            + ' to learn more about interactive tables.';\n",
              "          element.innerHTML = '';\n",
              "          dataTable['output_type'] = 'display_data';\n",
              "          await google.colab.output.renderOutput(dataTable, element);\n",
              "          const docLink = document.createElement('div');\n",
              "          docLink.innerHTML = docLinkHtml;\n",
              "          element.appendChild(docLink);\n",
              "        }\n",
              "      </script>\n",
              "    </div>\n",
              "  </div>\n",
              "  "
            ]
          },
          "metadata": {},
          "execution_count": 17
        }
      ],
      "source": [
        "import pandas as pd\n",
        "train_df = pd.DataFrame(train_samples)\n",
        "val_df = pd.DataFrame(val_samples)\n",
        "test_df = pd.DataFrame(test_samples)\n",
        "train_df.head(20)"
      ]
    },
    {
      "cell_type": "code",
      "execution_count": null,
      "metadata": {
        "colab": {
          "base_uri": "https://localhost:8080/"
        },
        "id": "UnPq-4iBhMyX",
        "outputId": "79318052-5840-41ea-8f63-1f5990467114"
      },
      "outputs": [
        {
          "output_type": "execute_result",
          "data": {
            "text/plain": [
              "RESULTS        766271\n",
              "METHODS        722586\n",
              "CONCLUSIONS    339714\n",
              "BACKGROUND     196689\n",
              "OBJECTIVE      186601\n",
              "Name: target, dtype: int64"
            ]
          },
          "metadata": {},
          "execution_count": 18
        }
      ],
      "source": [
        "# distrubution of labels in training Data\n",
        "train_df.target.value_counts()"
      ]
    },
    {
      "cell_type": "code",
      "execution_count": null,
      "metadata": {
        "colab": {
          "base_uri": "https://localhost:8080/",
          "height": 293
        },
        "id": "rQrY89LthPx4",
        "outputId": "02deba05-ad25-4dd2-d757-b3d44da11e43"
      },
      "outputs": [
        {
          "output_type": "execute_result",
          "data": {
            "text/plain": [
              "<matplotlib.axes._subplots.AxesSubplot at 0x7f8e88bfb3d0>"
            ]
          },
          "metadata": {},
          "execution_count": 19
        },
        {
          "output_type": "display_data",
          "data": {
            "text/plain": [
              "<Figure size 432x288 with 1 Axes>"
            ],
            "image/png": "[encoded data removed]"
          },
          "metadata": {
            "needs_background": "light"
          }
        }
      ],
      "source": [
        "# Let's Check the length of different lines\n",
        "train_df.total_lines.hist(grid = False)"
      ]
    },
    {
      "cell_type": "markdown",
      "metadata": {
        "id": "j3LxCMTIhXD4"
      },
      "source": [
        "### Get list of Sentences"
      ]
    },
    {
      "cell_type": "code",
      "execution_count": null,
      "metadata": {
        "colab": {
          "base_uri": "https://localhost:8080/"
        },
        "id": "JTI4oxu_hZdk",
        "outputId": "cec42d41-0872-4577-a9e7-2e8d41bb5a4d"
      },
      "outputs": [
        {
          "output_type": "stream",
          "name": "stdout",
          "text": [
            "2211861 28932 29493\n"
          ]
        }
      ],
      "source": [
        "train_sen = train_df[\"text\"].tolist()\n",
        "val_sen = val_df[\"text\"].tolist()\n",
        "test_sen = test_df[\"text\"].tolist()\n",
        "print(len(train_sen),len(val_sen),len(test_sen))"
      ]
    },
    {
      "cell_type": "code",
      "execution_count": null,
      "metadata": {
        "colab": {
          "base_uri": "https://localhost:8080/"
        },
        "id": "faMxtDSwha2e",
        "outputId": "e5b087ed-f67b-4518-fb7d-d46ec53d8777"
      },
      "outputs": [
        {
          "output_type": "execute_result",
          "data": {
            "text/plain": [
              "['the emergence of hiv as a chronic condition means that people living with hiv are required to take more responsibility for the self-management of their condition , including making physical , emotional and social adjustments .',\n",
              " 'this paper describes the design and evaluation of positive outlook , an online program aiming to enhance the self-management skills of gay men living with hiv .',\n",
              " 'this study is designed as a randomised controlled trial in which men living with hiv in australia will be assigned to either an intervention group or usual care control group .',\n",
              " \"the intervention group will participate in the online group program ` positive outlook ' .\",\n",
              " 'the program is based on self-efficacy theory and uses a self-management approach to enhance skills , confidence and abilities to manage the psychosocial issues associated with hiv in daily life .']"
            ]
          },
          "metadata": {},
          "execution_count": 21
        }
      ],
      "source": [
        "train_sen[:5]"
      ]
    },
    {
      "cell_type": "markdown",
      "metadata": {
        "id": "QAdX2W3OhdN2"
      },
      "source": [
        "### Make Labels (One Hot Encoded and Numerical Encoded)"
      ]
    },
    {
      "cell_type": "code",
      "execution_count": null,
      "metadata": {
        "colab": {
          "base_uri": "https://localhost:8080/"
        },
        "id": "9bKkyjMIhiap",
        "outputId": "0543cfd1-41d2-4f98-fd9a-5a41b8807255"
      },
      "outputs": [
        {
          "output_type": "execute_result",
          "data": {
            "text/plain": [
              "array([[1., 0., 0., 0., 0.],\n",
              "       [1., 0., 0., 0., 0.],\n",
              "       [0., 0., 1., 0., 0.],\n",
              "       ...,\n",
              "       [0., 0., 0., 0., 1.],\n",
              "       [0., 0., 0., 0., 1.],\n",
              "       [0., 0., 0., 0., 1.]])"
            ]
          },
          "metadata": {},
          "execution_count": 22
        }
      ],
      "source": [
        "# One hot encode labels\n",
        "from sklearn.preprocessing import OneHotEncoder\n",
        "one_hot_encoder = OneHotEncoder(sparse = False)\n",
        "train_labels_oh = one_hot_encoder.fit_transform(train_df[\"target\"].to_numpy().reshape(-1,1))\n",
        "val_labels_oh = one_hot_encoder.fit_transform(val_df[\"target\"].to_numpy().reshape(-1,1))\n",
        "test_labels_oh = one_hot_encoder.transform(test_df[\"target\"].to_numpy().reshape(-1,1))\n",
        "\n",
        "train_labels_oh"
      ]
    },
    {
      "cell_type": "code",
      "execution_count": null,
      "metadata": {
        "colab": {
          "base_uri": "https://localhost:8080/"
        },
        "id": "2klK_xkahnAP",
        "outputId": "701bd409-1c50-4558-a090-dfa6b5f95705"
      },
      "outputs": [
        {
          "output_type": "execute_result",
          "data": {
            "text/plain": [
              "array([0, 0, 2, ..., 4, 4, 4])"
            ]
          },
          "metadata": {},
          "execution_count": 23
        }
      ],
      "source": [
        "# Numeric Encoded Labels\n",
        "from sklearn.preprocessing import LabelEncoder\n",
        "label_encoder = LabelEncoder()\n",
        "train_labels_encoded = label_encoder.fit_transform(train_df[\"target\"].to_numpy())\n",
        "val_labels_encoded = label_encoder.transform(val_df[\"target\"].to_numpy())\n",
        "test_labels_encoded = label_encoder.transform(test_df[\"target\"].to_numpy())\n",
        "\n",
        "train_labels_encoded"
      ]
    },
    {
      "cell_type": "code",
      "execution_count": null,
      "metadata": {
        "colab": {
          "base_uri": "https://localhost:8080/"
        },
        "id": "jO_1qQImhrKc",
        "outputId": "b5077f1b-2256-4f97-b0e5-011912e3ff70"
      },
      "outputs": [
        {
          "output_type": "execute_result",
          "data": {
            "text/plain": [
              "(5, array(['BACKGROUND', 'CONCLUSIONS', 'METHODS', 'OBJECTIVE', 'RESULTS'],\n",
              "       dtype=object))"
            ]
          },
          "metadata": {},
          "execution_count": 24
        }
      ],
      "source": [
        "num_classes = len(label_encoder.classes_)\n",
        "class_names = label_encoder.classes_\n",
        "\n",
        "num_classes, class_names"
      ]
    },
    {
      "cell_type": "markdown",
      "metadata": {
        "id": "5vlyfK9PhuVl"
      },
      "source": [
        "## Modelling Experiments"
      ]
    },
    {
      "cell_type": "markdown",
      "metadata": {
        "id": "MPPMdfS2hxaI"
      },
      "source": [
        "### Model 0: MultiNomial Naive Bayes TF-IDF (Baseline)"
      ]
    },
    {
      "cell_type": "code",
      "execution_count": null,
      "metadata": {
        "id": "I9xdtqpRh1Ah"
      },
      "outputs": [],
      "source": [
        "from sklearn.feature_extraction.text import TfidfVectorizer\n",
        "from sklearn.naive_bayes import MultinomialNB\n",
        "from sklearn.pipeline import Pipeline\n",
        "\n",
        "model_0 = Pipeline([\n",
        "    (\"tf-idf\", TfidfVectorizer()),\n",
        "    (\"clf\", MultinomialNB())\n",
        "])\n",
        "\n",
        "model_0.fit(X = train_sen, y = train_labels_encoded);"
      ]
    },
    {
      "cell_type": "code",
      "execution_count": null,
      "metadata": {
        "colab": {
          "base_uri": "https://localhost:8080/"
        },
        "id": "0pCteGYKh3vd",
        "outputId": "add8d8e7-3441-4751-ed65-09c4c47d2554"
      },
      "outputs": [
        {
          "output_type": "execute_result",
          "data": {
            "text/plain": [
              "0.7497580533665146"
            ]
          },
          "metadata": {},
          "execution_count": 26
        }
      ],
      "source": [
        "## Gives Accuracy on Validation Dataset\n",
        "model_0.score(X = val_sen,\n",
        "                 y = val_labels_encoded)"
      ]
    },
    {
      "cell_type": "code",
      "execution_count": null,
      "metadata": {
        "colab": {
          "base_uri": "https://localhost:8080/"
        },
        "id": "78O7owuUh7KI",
        "outputId": "c59c953f-cbd7-48b5-9916-843ebb063bb3"
      },
      "outputs": [
        {
          "output_type": "execute_result",
          "data": {
            "text/plain": [
              "array([0, 4, 4, ..., 4, 4, 1])"
            ]
          },
          "metadata": {},
          "execution_count": 27
        }
      ],
      "source": [
        "## Make Predictions\n",
        "baseline_preds = model_0.predict(val_sen)\n",
        "baseline_preds"
      ]
    },
    {
      "cell_type": "code",
      "execution_count": null,
      "metadata": {
        "colab": {
          "base_uri": "https://localhost:8080/"
        },
        "id": "iD2Cwu0Th8my",
        "outputId": "920ca692-138e-4e13-85de-73b3094c2718"
      },
      "outputs": [
        {
          "output_type": "execute_result",
          "data": {
            "text/plain": [
              "{'accuracy': 74.97580533665146,\n",
              " 'f1': 0.7389570175489825,\n",
              " 'precision': 0.7431966265737352,\n",
              " 'recall': 0.7497580533665146}"
            ]
          },
          "metadata": {},
          "execution_count": 28
        }
      ],
      "source": [
        "baseline_results = calculate_results(y_true = val_labels_encoded,\n",
        "                                     y_pred = baseline_preds)\n",
        "baseline_results"
      ]
    },
    {
      "cell_type": "markdown",
      "metadata": {
        "id": "TSdFVHfxiFmy"
      },
      "source": [
        "### Text Vectorization Layer"
      ]
    },
    {
      "cell_type": "code",
      "execution_count": null,
      "metadata": {
        "id": "bxrGfo-fiQlq"
      },
      "outputs": [],
      "source": [
        "import numpy as np\n",
        "import tensorflow as tf\n",
        "from tensorflow import keras\n",
        "from tensorflow.keras import layers"
      ]
    },
    {
      "cell_type": "code",
      "execution_count": null,
      "metadata": {
        "colab": {
          "base_uri": "https://localhost:8080/"
        },
        "id": "hHhRGwaViTEM",
        "outputId": "899ce968-004a-4bbe-aa0f-77f4f31ade30"
      },
      "outputs": [
        {
          "output_type": "execute_result",
          "data": {
            "text/plain": [
              "26.229355280462922"
            ]
          },
          "metadata": {},
          "execution_count": 26
        }
      ],
      "source": [
        "# How long is each sentence?\n",
        "sen_lens = [len(sentence.split()) for sentence in train_sen]\n",
        "avg_sen_len = np.mean(sen_lens)\n",
        "avg_sen_len"
      ]
    },
    {
      "cell_type": "code",
      "execution_count": null,
      "metadata": {
        "colab": {
          "base_uri": "https://localhost:8080/",
          "height": 432
        },
        "id": "vRrhoPZ5iVvx",
        "outputId": "068113da-c23c-48b5-bc01-5628c44955a2"
      },
      "outputs": [
        {
          "output_type": "execute_result",
          "data": {
            "text/plain": [
              "(array([6.656900e+05, 1.064939e+06, 3.491070e+05, 9.095700e+04,\n",
              "        2.651300e+04, 8.980000e+03, 3.125000e+03, 1.374000e+03,\n",
              "        5.800000e+02, 2.770000e+02, 1.350000e+02, 7.100000e+01,\n",
              "        5.200000e+01, 2.400000e+01, 1.900000e+01, 6.000000e+00,\n",
              "        4.000000e+00, 5.000000e+00, 1.000000e+00, 2.000000e+00]),\n",
              " array([  1.  ,  17.85,  34.7 ,  51.55,  68.4 ,  85.25, 102.1 , 118.95,\n",
              "        135.8 , 152.65, 169.5 , 186.35, 203.2 , 220.05, 236.9 , 253.75,\n",
              "        270.6 , 287.45, 304.3 , 321.15, 338.  ]),\n",
              " <a list of 20 Patch objects>)"
            ]
          },
          "metadata": {},
          "execution_count": 27
        },
        {
          "output_type": "display_data",
          "data": {
            "text/plain": [
              "<Figure size 432x288 with 1 Axes>"
            ],
            "image/png": "[encoded data removed]"
          },
          "metadata": {
            "needs_background": "light"
          }
        }
      ],
      "source": [
        "# Distribution of sentences length\n",
        "import matplotlib.pyplot as plt\n",
        "plt.hist(sen_lens,bins = 20)"
      ]
    },
    {
      "cell_type": "code",
      "execution_count": null,
      "metadata": {
        "colab": {
          "base_uri": "https://localhost:8080/"
        },
        "id": "zlSpQ3WSigd9",
        "outputId": "e7c0a60a-06c8-4c36-85e1-2760b38f1a34"
      },
      "outputs": [
        {
          "output_type": "execute_result",
          "data": {
            "text/plain": [
              "54"
            ]
          },
          "metadata": {},
          "execution_count": 28
        }
      ],
      "source": [
        "# How long of a sentence covers 95% of the lengths?\n",
        "output_seq_len = int(np.percentile(sen_lens,95))\n",
        "output_seq_len"
      ]
    },
    {
      "cell_type": "code",
      "execution_count": null,
      "metadata": {
        "colab": {
          "base_uri": "https://localhost:8080/"
        },
        "id": "oYz_rdkFihbB",
        "outputId": "b604c382-ada3-417c-8200-37ebb5d2330a"
      },
      "outputs": [
        {
          "output_type": "execute_result",
          "data": {
            "text/plain": [
              "338"
            ]
          },
          "metadata": {},
          "execution_count": 29
        }
      ],
      "source": [
        "max(sen_lens)"
      ]
    },
    {
      "cell_type": "markdown",
      "metadata": {
        "id": "tu-stKDci3BD"
      },
      "source": [
        "```\n",
        "# How many words are in our vocab? (taken from table 3.2 in : https://arxiv.org/pdf/1710.06071.pdf)\n",
        "\n",
        "```"
      ]
    },
    {
      "cell_type": "code",
      "execution_count": null,
      "metadata": {
        "id": "UB970c8ZijXh"
      },
      "outputs": [],
      "source": [
        "max_tokens = 331000"
      ]
    },
    {
      "cell_type": "code",
      "execution_count": null,
      "metadata": {
        "id": "5yk6u3U_i2f4"
      },
      "outputs": [],
      "source": [
        "from tensorflow.keras.layers.experimental.preprocessing import TextVectorization\n",
        "\n",
        "text_vectorizer = TextVectorization(max_tokens = max_tokens,\n",
        "                                    output_sequence_length = output_seq_len)"
      ]
    },
    {
      "cell_type": "code",
      "execution_count": null,
      "metadata": {
        "colab": {
          "base_uri": "https://localhost:8080/"
        },
        "id": "InBKubriWeJI",
        "outputId": "fd95f175-ceaa-46e5-b4d7-264bda2eb097"
      },
      "outputs": [
        {
          "output_type": "execute_result",
          "data": {
            "text/plain": [
              "<PrefetchDataset element_spec=TensorSpec(shape=(None,), dtype=tf.string, name=None)>"
            ]
          },
          "metadata": {},
          "execution_count": 32
        }
      ],
      "source": [
        "train_sen_dataset = tf.data.Dataset.from_tensor_slices(train_sen)\n",
        "train_sen_dataset = train_sen_dataset.batch(32).prefetch(tf.data.AUTOTUNE)\n",
        "train_sen_dataset"
      ]
    },
    {
      "cell_type": "code",
      "execution_count": null,
      "metadata": {
        "id": "8e1CKr0ri_U1"
      },
      "outputs": [],
      "source": [
        "text_vectorizer.adapt(train_sen_dataset)"
      ]
    },
    {
      "cell_type": "code",
      "execution_count": null,
      "metadata": {
        "colab": {
          "base_uri": "https://localhost:8080/"
        },
        "id": "lq8r4LN0jA18",
        "outputId": "950b3592-4b37-4faf-b024-5019e34ea1aa"
      },
      "outputs": [
        {
          "output_type": "stream",
          "name": "stdout",
          "text": [
            "Text:\n",
            "patients were randomly assigned to one of three anesthetic regimens .\n",
            "\n",
            "Length of text : 11\n",
            "\n",
            "Vectorized text : [[  11    9   87  119    6   76    3  105 1062  625    0    0    0    0\n",
            "     0    0    0    0    0    0    0    0    0    0    0    0    0    0\n",
            "     0    0    0    0    0    0    0    0    0    0    0    0    0    0\n",
            "     0    0    0    0    0    0    0    0    0    0    0    0]]\n"
          ]
        }
      ],
      "source": [
        "import random\n",
        "target_sen = random.choice(train_sen)\n",
        "print(f\"Text:\\n{target_sen}\")\n",
        "print(f\"\\nLength of text : {len(target_sen.split())}\")\n",
        "print(f\"\\nVectorized text : {text_vectorizer([target_sen])}\")"
      ]
    },
    {
      "cell_type": "code",
      "execution_count": null,
      "metadata": {
        "colab": {
          "base_uri": "https://localhost:8080/"
        },
        "id": "VgZ4DAFUjCXr",
        "outputId": "fb4344b9-b14a-4116-d102-5ee7ea2c1117"
      },
      "outputs": [
        {
          "output_type": "stream",
          "name": "stdout",
          "text": [
            "Number of words in vocab: 247961\n",
            "Most common words in vocab: ['', '[UNK]', 'the', 'of', 'and']\n",
            "Least common words in vocab: ['aaae', 'aaacp', 'aaabbb', 'aaaanalog', 'aaaa']\n"
          ]
        }
      ],
      "source": [
        "# How many words in our training vocab\n",
        "text_vocab = text_vectorizer.get_vocabulary()\n",
        "print(f\"Number of words in vocab: {len(text_vocab)}\")\n",
        "print(f\"Most common words in vocab: {text_vocab[:5]}\")\n",
        "print(f\"Least common words in vocab: {text_vocab[-5:]}\")"
      ]
    },
    {
      "cell_type": "code",
      "execution_count": null,
      "metadata": {
        "colab": {
          "base_uri": "https://localhost:8080/"
        },
        "id": "1qEA9f5QjEJk",
        "outputId": "e4b60185-179e-418e-a182-b250cd99d1f2"
      },
      "outputs": [
        {
          "output_type": "execute_result",
          "data": {
            "text/plain": [
              "{'batch_input_shape': (None,),\n",
              " 'dtype': 'string',\n",
              " 'idf_weights': None,\n",
              " 'max_tokens': 331000,\n",
              " 'name': 'text_vectorization',\n",
              " 'ngrams': None,\n",
              " 'output_mode': 'int',\n",
              " 'output_sequence_length': 54,\n",
              " 'pad_to_max_tokens': False,\n",
              " 'ragged': False,\n",
              " 'sparse': False,\n",
              " 'split': 'whitespace',\n",
              " 'standardize': 'lower_and_strip_punctuation',\n",
              " 'trainable': True,\n",
              " 'vocabulary': None}"
            ]
          },
          "metadata": {},
          "execution_count": 36
        }
      ],
      "source": [
        "text_vectorizer.get_config()"
      ]
    },
    {
      "cell_type": "markdown",
      "metadata": {
        "id": "uQMFW5pgjSZn"
      },
      "source": [
        "### Create Custom Embedding layer"
      ]
    },
    {
      "cell_type": "code",
      "execution_count": null,
      "metadata": {
        "id": "Gzdu05x8j392"
      },
      "outputs": [],
      "source": [
        "token_embed = layers.Embedding(input_dim=len(text_vocab),\n",
        "                               output_dim = 128,\n",
        "                               mask_zero = True,\n",
        "                               name = \"token_embedding\")"
      ]
    },
    {
      "cell_type": "code",
      "execution_count": null,
      "metadata": {
        "colab": {
          "base_uri": "https://localhost:8080/"
        },
        "id": "uOby_NTij6mp",
        "outputId": "7ed876dd-9161-450a-a664-5e296b1267c3"
      },
      "outputs": [
        {
          "output_type": "stream",
          "name": "stdout",
          "text": [
            "Sentence before vectorization:\n",
            "patients were randomly assigned to one of three anesthetic regimens .\n",
            "Sentence after vectorization(before embedding):\n",
            "[[  11    9   87  119    6   76    3  105 1062  625    0    0    0    0\n",
            "     0    0    0    0    0    0    0    0    0    0    0    0    0    0\n",
            "     0    0    0    0    0    0    0    0    0    0    0    0    0    0\n",
            "     0    0    0    0    0    0    0    0    0    0    0    0]]\n",
            "Sentence after embedding):\n",
            "[[[-0.01692412  0.00327094  0.04333505 ...  0.01938673  0.04497775\n",
            "   -0.01004343]\n",
            "  [-0.0402387   0.04611928  0.01593146 ...  0.00364914 -0.02977403\n",
            "   -0.02528297]\n",
            "  [-0.02504596  0.03517694 -0.01293303 ... -0.00265611 -0.0328487\n",
            "    0.01765439]\n",
            "  ...\n",
            "  [-0.02669137  0.00213108 -0.02973375 ... -0.0033345   0.01167866\n",
            "   -0.04834055]\n",
            "  [-0.02669137  0.00213108 -0.02973375 ... -0.0033345   0.01167866\n",
            "   -0.04834055]\n",
            "  [-0.02669137  0.00213108 -0.02973375 ... -0.0033345   0.01167866\n",
            "   -0.04834055]]]\n",
            "\n",
            "Embedded Sentence shape : (1, 54, 128)\n"
          ]
        }
      ],
      "source": [
        "print(f\"Sentence before vectorization:\\n{target_sen}\")\n",
        "vectorized_sen = text_vectorizer([target_sen])\n",
        "print(f\"Sentence after vectorization(before embedding):\\n{vectorized_sen}\")\n",
        "embedded_sen = token_embed(vectorized_sen)\n",
        "print(f\"Sentence after embedding):\\n{embedded_sen}\\n\")\n",
        "print(f\"Embedded Sentence shape : {embedded_sen.shape}\")"
      ]
    },
    {
      "cell_type": "markdown",
      "metadata": {
        "id": "SS89BHBVj88G"
      },
      "source": [
        "### Creating Datasets For our Model 1"
      ]
    },
    {
      "cell_type": "code",
      "execution_count": null,
      "metadata": {
        "colab": {
          "base_uri": "https://localhost:8080/"
        },
        "id": "KHwfRAbKkC6a",
        "outputId": "396a0dde-7d9f-41aa-857a-aec6ce78b233"
      },
      "outputs": [
        {
          "output_type": "execute_result",
          "data": {
            "text/plain": [
              "<TensorSliceDataset element_spec=(TensorSpec(shape=(), dtype=tf.string, name=None), TensorSpec(shape=(5,), dtype=tf.float64, name=None))>"
            ]
          },
          "metadata": {},
          "execution_count": 43
        }
      ],
      "source": [
        "train_dataset = tf.data.Dataset.from_tensor_slices((train_sen,train_labels_oh))\n",
        "valid_dataset = tf.data.Dataset.from_tensor_slices((val_sen,val_labels_oh))\n",
        "test_dataset = tf.data.Dataset.from_tensor_slices((test_sen,test_labels_oh))\n",
        " \n",
        "train_dataset"
      ]
    },
    {
      "cell_type": "code",
      "execution_count": null,
      "metadata": {
        "colab": {
          "base_uri": "https://localhost:8080/"
        },
        "id": "im8Gi2OpkEbc",
        "outputId": "ee954702-40c0-45ad-890d-f1a549436ff9"
      },
      "outputs": [
        {
          "output_type": "execute_result",
          "data": {
            "text/plain": [
              "<PrefetchDataset element_spec=(TensorSpec(shape=(None,), dtype=tf.string, name=None), TensorSpec(shape=(None, 5), dtype=tf.float64, name=None))>"
            ]
          },
          "metadata": {},
          "execution_count": 44
        }
      ],
      "source": [
        "train_dataset = train_dataset.batch(32).prefetch(tf.data.AUTOTUNE)\n",
        "valid_dataset = valid_dataset.batch(32).prefetch(tf.data.AUTOTUNE)\n",
        "test_dataset = test_dataset.batch(32).prefetch(tf.data.AUTOTUNE)\n",
        "\n",
        "train_dataset"
      ]
    },
    {
      "cell_type": "markdown",
      "metadata": {
        "id": "V9QeAf6IkFrB"
      },
      "source": [
        "### Model 1 : Conv1D with custom Token Embeddings"
      ]
    },
    {
      "cell_type": "code",
      "execution_count": null,
      "metadata": {
        "id": "gqXCqF_nkM6_"
      },
      "outputs": [],
      "source": [
        "inputs = layers.Input(shape = (1,), dtype = tf.string)\n",
        "text_vectors = text_vectorizer(inputs)\n",
        "token_embeddings= token_embed(text_vectors)\n",
        "x = layers.Conv1D(64,kernel_size=5,padding=\"same\",activation=\"relu\")(token_embeddings)\n",
        "x = layers.GlobalMaxPooling1D()(x)\n",
        "x = layers.Dropout(0.5)(x)\n",
        "outputs = layers.Dense(num_classes,activation=\"softmax\")(x)\n",
        "\n",
        "model_1 = tf.keras.Model(inputs,outputs)\n",
        "\n",
        "model_1.compile(loss = tf.keras.losses.categorical_crossentropy,\n",
        "                optimizer = tf.keras.optimizers.Adam(),\n",
        "                metrics = [\"accuracy\"])"
      ]
    },
    {
      "cell_type": "code",
      "execution_count": null,
      "metadata": {
        "colab": {
          "base_uri": "https://localhost:8080/"
        },
        "id": "DvES_QW7kUne",
        "outputId": "9624545d-14e5-4681-a8a8-eba3be945fbe"
      },
      "outputs": [
        {
          "output_type": "stream",
          "name": "stdout",
          "text": [
            "Model: \"model\"\n",
            "_________________________________________________________________\n",
            " Layer (type)                Output Shape              Param #   \n",
            "=================================================================\n",
            " input_1 (InputLayer)        [(None, 1)]               0         \n",
            "                                                                 \n",
            " text_vectorization (TextVec  (None, 54)               0         \n",
            " torization)                                                     \n",
            "                                                                 \n",
            " token_embedding (Embedding)  (None, 54, 128)          31739008  \n",
            "                                                                 \n",
            " conv1d (Conv1D)             (None, 54, 64)            41024     \n",
            "                                                                 \n",
            " global_max_pooling1d (Globa  (None, 64)               0         \n",
            " lMaxPooling1D)                                                  \n",
            "                                                                 \n",
            " dropout (Dropout)           (None, 64)                0         \n",
            "                                                                 \n",
            " dense (Dense)               (None, 5)                 325       \n",
            "                                                                 \n",
            "=================================================================\n",
            "Total params: 31,780,357\n",
            "Trainable params: 31,780,357\n",
            "Non-trainable params: 0\n",
            "_________________________________________________________________\n"
          ]
        }
      ],
      "source": [
        "model_1.summary()"
      ]
    },
    {
      "cell_type": "code",
      "execution_count": null,
      "metadata": {
        "colab": {
          "base_uri": "https://localhost:8080/",
          "height": 754
        },
        "id": "tAF_vVLpkWSv",
        "outputId": "699cb7ca-b5fa-4908-a6f5-8d631f0a78b2"
      },
      "outputs": [
        {
          "output_type": "execute_result",
          "data": {
            "text/plain": [
              "<IPython.core.display.Image object>"
            ],
            "image/png": "[encoded data removed]"
          },
          "metadata": {},
          "execution_count": 47
        }
      ],
      "source": [
        "tf.keras.utils.plot_model(model_1,show_shapes=True)"
      ]
    },
    {
      "cell_type": "markdown",
      "source": [
        "#### Training Model 1"
      ],
      "metadata": {
        "id": "6SKPwR7lA8Nn"
      }
    },
    {
      "cell_type": "code",
      "execution_count": null,
      "metadata": {
        "id": "DKoW0OY5FNAe"
      },
      "outputs": [],
      "source": [
        "run_dir = \"/content/drive/MyDrive/PubMed/Checkpoints/Model1/\"\n",
        "checkpoint_path = os.path.join(run_dir,'model-{epoch:02d}-{val_loss:02f}.ckpt')\n",
        "checkpoint_callback = tf.keras.callbacks.ModelCheckpoint(checkpoint_path, save_weights_only=True, monitor=\"val_accuracy\")"
      ]
    },
    {
      "cell_type": "code",
      "source": [
        "model_1.save_weights(checkpoint_path.format(epoch=0,val_loss=0.00))"
      ],
      "metadata": {
        "id": "_u5F83O8qs3f"
      },
      "execution_count": null,
      "outputs": []
    },
    {
      "cell_type": "code",
      "execution_count": null,
      "metadata": {
        "colab": {
          "base_uri": "https://localhost:8080/"
        },
        "id": "9BxsG6Q1b-X3",
        "outputId": "e07ea04f-9ecd-451b-c1ef-2c8a78de5c26"
      },
      "outputs": [
        {
          "output_type": "stream",
          "name": "stdout",
          "text": [
            "Epoch 1/5\n",
            "13824/13824 [==============================] - 290s 21ms/step - loss: 0.4482 - accuracy: 0.8417 - val_loss: 0.4843 - val_accuracy: 0.8285\n",
            "Epoch 2/5\n",
            "13824/13824 [==============================] - 279s 20ms/step - loss: 0.5217 - accuracy: 0.8152 - val_loss: 0.4449 - val_accuracy: 0.8378\n",
            "Epoch 3/5\n",
            "13824/13824 [==============================] - 281s 20ms/step - loss: 0.5121 - accuracy: 0.8189 - val_loss: 0.4477 - val_accuracy: 0.8354\n",
            "Epoch 4/5\n",
            "13824/13824 [==============================] - 280s 20ms/step - loss: 0.5055 - accuracy: 0.8208 - val_loss: 0.4386 - val_accuracy: 0.8361\n",
            "Epoch 5/5\n",
            "13824/13824 [==============================] - 280s 20ms/step - loss: 0.5027 - accuracy: 0.8220 - val_loss: 0.4299 - val_accuracy: 0.8424\n"
          ]
        }
      ],
      "source": [
        "history_model_1 = model_1.fit(\n",
        "    train_dataset,\n",
        "    epochs = 5,\n",
        "    steps_per_epoch = int(0.2 * len(train_dataset)),\n",
        "    validation_data = valid_dataset,\n",
        "    validation_steps = int(0.1*len(valid_dataset)),\n",
        "    callbacks = [checkpoint_callback]\n",
        ")"
      ]
    },
    {
      "cell_type": "code",
      "execution_count": null,
      "metadata": {
        "colab": {
          "base_uri": "https://localhost:8080/",
          "height": 573
        },
        "id": "UVDqEbR0lYZu",
        "outputId": "85892088-f6eb-4e18-f436-0cc83c04e44d"
      },
      "outputs": [
        {
          "output_type": "display_data",
          "data": {
            "text/plain": [
              "<Figure size 432x288 with 1 Axes>"
            ],
            "image/png": "[encoded data removed]"
          },
          "metadata": {
            "needs_background": "light"
          }
        },
        {
          "output_type": "display_data",
          "data": {
            "text/plain": [
              "<Figure size 432x288 with 1 Axes>"
            ],
            "image/png": "[encoded data removed]"
          },
          "metadata": {
            "needs_background": "light"
          }
        }
      ],
      "source": [
        "plot_loss_curves(history_model_1)"
      ]
    },
    {
      "cell_type": "code",
      "execution_count": null,
      "metadata": {
        "colab": {
          "base_uri": "https://localhost:8080/"
        },
        "id": "w7sHacdFlloH",
        "outputId": "9a0fd68b-0b41-4060-f6f9-078bca08b3ce"
      },
      "outputs": [
        {
          "output_type": "stream",
          "name": "stdout",
          "text": [
            "905/905 [==============================] - 3s 3ms/step - loss: 0.4280 - accuracy: 0.8453\n"
          ]
        },
        {
          "output_type": "execute_result",
          "data": {
            "text/plain": [
              "[0.4279767870903015, 0.8452578186988831]"
            ]
          },
          "metadata": {},
          "execution_count": 55
        }
      ],
      "source": [
        "model_1.evaluate(valid_dataset)"
      ]
    },
    {
      "cell_type": "code",
      "execution_count": null,
      "metadata": {
        "colab": {
          "base_uri": "https://localhost:8080/"
        },
        "id": "v98nDDNDlnwQ",
        "outputId": "47ca73f7-6303-4770-daa7-77e0bd7f6376"
      },
      "outputs": [
        {
          "output_type": "execute_result",
          "data": {
            "text/plain": [
              "(28932, 5)"
            ]
          },
          "metadata": {},
          "execution_count": 56
        }
      ],
      "source": [
        "model_1_pred_probs = model_1.predict(valid_dataset)\n",
        "model_1_pred_probs.shape"
      ]
    },
    {
      "cell_type": "code",
      "execution_count": null,
      "metadata": {
        "colab": {
          "base_uri": "https://localhost:8080/"
        },
        "id": "Q7zeZcdzlpYu",
        "outputId": "00157985-6973-4a5b-96df-901810d3027a"
      },
      "outputs": [
        {
          "output_type": "execute_result",
          "data": {
            "text/plain": [
              "<tf.Tensor: shape=(28932,), dtype=int64, numpy=array([0, 2, 4, ..., 1, 1, 1])>"
            ]
          },
          "metadata": {},
          "execution_count": 57
        }
      ],
      "source": [
        "model_1_preds = tf.argmax(model_1_pred_probs,axis = 1)\n",
        "model_1_preds"
      ]
    },
    {
      "cell_type": "code",
      "execution_count": null,
      "metadata": {
        "colab": {
          "base_uri": "https://localhost:8080/"
        },
        "id": "kTdXG8ialqli",
        "outputId": "cffe6c1d-3685-41cc-97f9-a064787fff48"
      },
      "outputs": [
        {
          "output_type": "execute_result",
          "data": {
            "text/plain": [
              "{'accuracy': 84.52578459836859,\n",
              " 'f1': 0.842549447628614,\n",
              " 'precision': 0.8417870067819809,\n",
              " 'recall': 0.8452578459836859}"
            ]
          },
          "metadata": {},
          "execution_count": 58
        }
      ],
      "source": [
        "model_1_results = calculate_results(y_pred=model_1_preds,\n",
        "                                    y_true = val_labels_encoded)\n",
        "model_1_results"
      ]
    },
    {
      "cell_type": "markdown",
      "metadata": {
        "id": "erjczdadF-F2"
      },
      "source": [
        "### Loading Model 1"
      ]
    },
    {
      "cell_type": "code",
      "execution_count": null,
      "metadata": {
        "id": "n-znXYr9GATi",
        "colab": {
          "base_uri": "https://localhost:8080/"
        },
        "outputId": "ffde409d-5c47-4bf0-a4fb-2569bfa62f8a"
      },
      "outputs": [
        {
          "output_type": "execute_result",
          "data": {
            "text/plain": [
              "<tensorflow.python.training.tracking.util.CheckpointLoadStatus at 0x7fbf86081250>"
            ]
          },
          "metadata": {},
          "execution_count": 59
        }
      ],
      "source": [
        "run_dir = \"/content/drive/MyDrive/PubMed/Checkpoints/Model1/\"\n",
        "checkpoint_path = os.path.join(run_dir,'model-{epoch:02d}-{val_loss:02f}.ckpt')\n",
        "\n",
        "checkpoint_dir = os.path.dirname(checkpoint_path)\n",
        "latest = tf.train.latest_checkpoint(checkpoint_dir)\n",
        "\n",
        "model = tf.keras.Model(inputs,outputs)\n",
        "\n",
        "model.compile(loss = tf.keras.losses.categorical_crossentropy,\n",
        "                optimizer = tf.keras.optimizers.Adam(),\n",
        "                metrics = [\"accuracy\"])\n",
        "\n",
        "model.load_weights(latest)\n",
        "\n",
        "model.evaluate(valid_dataset)"
      ]
    },
    {
      "cell_type": "markdown",
      "metadata": {
        "id": "PzD1qawQlr6c"
      },
      "source": [
        "### PreTrained Token Embeddings"
      ]
    },
    {
      "cell_type": "code",
      "execution_count": null,
      "metadata": {
        "id": "uszrBt7kl5J5"
      },
      "outputs": [],
      "source": [
        "import tensorflow_hub as hub\n",
        "tf_hub_embedding_layer = hub.KerasLayer(\n",
        "    \"https://tfhub.dev/google/universal-sentence-encoder/4\",\n",
        "    trainable = False,\n",
        "    name = \"USE\"\n",
        ")"
      ]
    },
    {
      "cell_type": "code",
      "execution_count": null,
      "metadata": {
        "colab": {
          "base_uri": "https://localhost:8080/"
        },
        "id": "iCO3Z6a-l8yM",
        "outputId": "c3c67a4b-a858-4e76-a980-553b37751abf"
      },
      "outputs": [
        {
          "output_type": "stream",
          "name": "stdout",
          "text": [
            "Random sentence:\n",
            " we aimed to assess the effect of rasagiline on symptoms and progression of the parkinsonian variant of multiple system atrophy .\n",
            "Sentence after embedding :\n",
            "[-0.00808954 -0.03442345 -0.03949891 -0.06611577 -0.03951962  0.01623381\n",
            " -0.04722618 -0.02232587  0.08761942  0.05452972  0.09264178  0.01889023\n",
            "  0.07815763  0.0920574  -0.02332161 -0.00520592 -0.08049908 -0.00503955\n",
            "  0.01133698 -0.00822215]\n",
            "\n",
            "Length of sentence embedding: 512\n"
          ]
        }
      ],
      "source": [
        "import random\n",
        "random_train_sen = random.choice(train_sen)\n",
        "print(f\"Random sentence:\\n {random_train_sen}\")\n",
        "use_embedded_sen = tf_hub_embedding_layer([random_train_sen])\n",
        "print(f\"Sentence after embedding :\\n{use_embedded_sen[0][:20]}\\n\")\n",
        "print(f\"Length of sentence embedding: {len(use_embedded_sen[0])}\")"
      ]
    },
    {
      "cell_type": "markdown",
      "metadata": {
        "id": "_iCFxU56l-xv"
      },
      "source": [
        "### Creating Character Vectorization Layer"
      ]
    },
    {
      "cell_type": "code",
      "execution_count": null,
      "metadata": {
        "id": "JfNoPxGemG9u"
      },
      "outputs": [],
      "source": [
        "def split_to_chars(text):\n",
        "    return \" \".join(list(text))"
      ]
    },
    {
      "cell_type": "code",
      "execution_count": null,
      "metadata": {
        "colab": {
          "base_uri": "https://localhost:8080/"
        },
        "id": "CnmKB4Q-mJho",
        "outputId": "322ba6b2-a6ca-43db-c855-286ef6868761"
      },
      "outputs": [
        {
          "output_type": "execute_result",
          "data": {
            "text/plain": [
              "['m a n y   p a t h o g e n i c   p r o c e s s e s   a n d   d i s e a s e s   a r e   t h e   r e s u l t   o f   a n   e r r o n e o u s   a c t i v a t i o n   o f   t h e   c o m p l e m e n t   c a s c a d e   a n d   a   n u m b e r   o f   i n h i b i t o r s   o f   c o m p l e m e n t   h a v e   t h u s   b e e n   e x a m i n e d   f o r   a n t i - i n f l a m m a t o r y   a c t i o n s   .',\n",
              " 'i t   w a s   r e c e n t l y   d e m o n s t r a t e d   t h a t   s u p r a p h y s i o l o g i c a l   c o n c e n t r a t i o n s   o f   t h e   e n d o g e n o u s   c o m p l e m e n t   i n h i b i t o r   m a p @   (   a l s o   d e n o t e d   m a p @   )   p r o t e c t   a g a i n s t   m y o c a r d i a l   r e p e r f u s i o n   i n j u r y   .',\n",
              " 'i n   t h e   p r e s e n t   s t u d y   ,   w e   e x a m i n e d   t h e   a s s o c i a t i o n   b e t w e e n   o u t c o m e   a f t e r   a c u t e   m y o c a r d i a l   i n f a r c t i o n   (   m i   )   a n d   t h e   p l a s m a   l e v e l s   o f   m a p @   a n d   i t s   r e l a t e d   p r o t e i n s   m a s p - @   a n d   m a s p - @   i n   p a t i e n t s   w i t h   f i r s t - t i m e   m i   .',\n",
              " 'i n   a d d i t i o n   ,   w e   c o m p a r e d   p l a s m a   l e v e l s   o f   m a p @   ,   m a s p - @   ,   a n d   m a s p - @   i n   m i   p a t i e n t s   t o   l e v e l s   i n   a   h e a l t h y   c o n t r o l   g r o u p   .',\n",
              " 'a   t o t a l   o f   @   m i   p a t i e n t s   a n d   @   c o n t r o l   p e r s o n s   w e r e   i n c l u d e d   .']"
            ]
          },
          "metadata": {},
          "execution_count": 42
        }
      ],
      "source": [
        "train_chars = [split_to_chars(sentence) for sentence in train_sen]\n",
        "val_chars = [split_to_chars(sentence) for sentence in val_sen]\n",
        "test_chars = [split_to_chars(sentence) for sentence in test_sen]\n",
        "\n",
        "test_chars[:5]"
      ]
    },
    {
      "cell_type": "code",
      "execution_count": null,
      "metadata": {
        "colab": {
          "base_uri": "https://localhost:8080/"
        },
        "id": "GrJem205mLM3",
        "outputId": "040d30b9-b615-4c95-87cb-556f678336f0"
      },
      "outputs": [
        {
          "output_type": "execute_result",
          "data": {
            "text/plain": [
              "147.82646377869133"
            ]
          },
          "metadata": {},
          "execution_count": 43
        }
      ],
      "source": [
        "# Avg character length\n",
        "import numpy as np\n",
        "\n",
        "char_lens = [len(sentence) for sentence in train_sen]\n",
        "mean_char_len = np.mean(char_lens)\n",
        "mean_char_len"
      ]
    },
    {
      "cell_type": "code",
      "execution_count": null,
      "metadata": {
        "colab": {
          "base_uri": "https://localhost:8080/",
          "height": 363
        },
        "id": "AP9bpCGQmMra",
        "outputId": "e3e68619-5fd8-47aa-de46-77eae856ea08"
      },
      "outputs": [
        {
          "output_type": "execute_result",
          "data": {
            "text/plain": [
              "(array([2.030236e+06, 1.779350e+05, 3.470000e+03, 1.980000e+02,\n",
              "        2.000000e+01, 1.000000e+00, 1.000000e+00]),\n",
              " array([1.00000000e+00, 2.54428571e+02, 5.07857143e+02, 7.61285714e+02,\n",
              "        1.01471429e+03, 1.26814286e+03, 1.52157143e+03, 1.77500000e+03]),\n",
              " <a list of 7 Patch objects>)"
            ]
          },
          "metadata": {},
          "execution_count": 44
        },
        {
          "output_type": "display_data",
          "data": {
            "text/plain": [
              "<Figure size 432x288 with 1 Axes>"
            ],
            "image/png": "[encoded data removed]"
          },
          "metadata": {
            "needs_background": "light"
          }
        }
      ],
      "source": [
        "# Check distribution\n",
        "\n",
        "import matplotlib.pyplot as plt\n",
        "plt.hist(char_lens,bins = 7)"
      ]
    },
    {
      "cell_type": "code",
      "execution_count": null,
      "metadata": {
        "colab": {
          "base_uri": "https://localhost:8080/"
        },
        "id": "sieqbWKlmN_K",
        "outputId": "34d14454-da7e-4803-c87f-b4554b96fecb"
      },
      "outputs": [
        {
          "output_type": "execute_result",
          "data": {
            "text/plain": [
              "284"
            ]
          },
          "metadata": {},
          "execution_count": 45
        }
      ],
      "source": [
        "# What character length covers 95% of the lengths?\n",
        "output_seq_char_len = int(np.percentile(char_lens,95))\n",
        "output_seq_char_len"
      ]
    },
    {
      "cell_type": "code",
      "execution_count": null,
      "metadata": {
        "colab": {
          "base_uri": "https://localhost:8080/",
          "height": 35
        },
        "id": "CSagTyB4mPZZ",
        "outputId": "156f0b7c-1b36-423f-cb98-67c4b328f451"
      },
      "outputs": [
        {
          "output_type": "execute_result",
          "data": {
            "text/plain": [
              "'abcdefghijklmnopqrstuvwxyz0123456789!\"#$%&\\'()*+,-./:;<=>?@[\\\\]^_`{|}~'"
            ],
            "application/vnd.google.colaboratory.intrinsic+json": {
              "type": "string"
            }
          },
          "metadata": {},
          "execution_count": 46
        }
      ],
      "source": [
        "# Get all keyboard characters\n",
        "import string\n",
        "alphabet=  string.ascii_lowercase + string.digits+ string.punctuation\n",
        "alphabet"
      ]
    },
    {
      "cell_type": "code",
      "execution_count": null,
      "metadata": {
        "id": "VkbsH0GOmQyY"
      },
      "outputs": [],
      "source": [
        "# Char level token vectorizer\n",
        "from tensorflow.keras.layers.experimental.preprocessing import TextVectorization\n",
        "\n",
        "num_char_tokens = len(alphabet) + 2 # for space and UNK(Unkown)\n",
        "char_vectorizer = TextVectorization(\n",
        "    max_tokens = num_char_tokens,\n",
        "    output_sequence_length = output_seq_char_len,\n",
        "    name = \"char_vectorizer\"\n",
        ")"
      ]
    },
    {
      "cell_type": "code",
      "execution_count": null,
      "metadata": {
        "colab": {
          "base_uri": "https://localhost:8080/"
        },
        "id": "9PvdGB_u8F1J",
        "outputId": "bf67379e-8a30-4852-ad00-efec4cf0c06a"
      },
      "outputs": [
        {
          "output_type": "execute_result",
          "data": {
            "text/plain": [
              "<PrefetchDataset element_spec=TensorSpec(shape=(None,), dtype=tf.string, name=None)>"
            ]
          },
          "metadata": {},
          "execution_count": 48
        }
      ],
      "source": [
        "train_char_dataset = tf.data.Dataset.from_tensor_slices(train_chars)\n",
        "train_char_dataset = train_char_dataset.batch(32).prefetch(tf.data.AUTOTUNE)\n",
        "train_char_dataset"
      ]
    },
    {
      "cell_type": "code",
      "execution_count": null,
      "metadata": {
        "id": "qdXO7IBYmY9f"
      },
      "outputs": [],
      "source": [
        "char_vectorizer.adapt(train_char_dataset)"
      ]
    },
    {
      "cell_type": "code",
      "execution_count": null,
      "metadata": {
        "colab": {
          "base_uri": "https://localhost:8080/"
        },
        "id": "tt1CsBZ1ma5h",
        "outputId": "7931a514-e6c6-494a-ac10-993967fe146d"
      },
      "outputs": [
        {
          "output_type": "stream",
          "name": "stdout",
          "text": [
            "Number of different characters in character vocab : 28\n",
            "5 most common characters : ['', '[UNK]', 'e', 't', 'a']\n",
            "5 least common characters : ['k', 'x', 'z', 'q', 'j']\n"
          ]
        }
      ],
      "source": [
        "char_vocab = char_vectorizer.get_vocabulary()\n",
        "print(f\"Number of different characters in character vocab : {len(char_vocab)}\")\n",
        "print(f\"5 most common characters : {char_vocab[:5]}\")\n",
        "print(f\"5 least common characters : {char_vocab[-5:]}\")"
      ]
    },
    {
      "cell_type": "code",
      "execution_count": null,
      "metadata": {
        "colab": {
          "base_uri": "https://localhost:8080/"
        },
        "id": "MsneUUGhmdx4",
        "outputId": "d039c0b5-6644-4ab2-df73-ffe443abf909"
      },
      "outputs": [
        {
          "output_type": "stream",
          "name": "stdout",
          "text": [
            "Charified text : \n",
            "m o n t e l u k a s t   m a y   b e   a   w e l l - t o l e r a t e d   a n d   e f f e c t i v e   t h e r a p e u t i c   o p t i o n   i n   @   t o   @ - y e a r - o l d   p a t i e n t s   w i t h   m i l d   p e r s i s t e n t   a s t h m a   .\n",
            "\n",
            "Length of random_train_chars : 108\n",
            "\n",
            "Vectorized chars : \n",
            "[[15  7  6  3  2 11 16 23  4  9  3 15  4 19 22  2  4 20  2 11 11  3  7 11\n",
            "   2  8  4  3  2 10  4  6 10  2 17 17  2 12  3  5 21  2  3 13  2  8  4 14\n",
            "   2 16  3  5 12  7 14  3  5  7  6  5  6  3  7 19  2  4  8  7 11 10 14  4\n",
            "   3  5  2  6  3  9 20  5  3 13 15  5 11 10 14  2  8  9  5  9  3  2  6  3\n",
            "   4  9  3 13 15  4  0  0  0  0  0  0  0  0  0  0  0  0  0  0  0  0  0  0\n",
            "   0  0  0  0  0  0  0  0  0  0  0  0  0  0  0  0  0  0  0  0  0  0  0  0\n",
            "   0  0  0  0  0  0  0  0  0  0  0  0  0  0  0  0  0  0  0  0  0  0  0  0\n",
            "   0  0  0  0  0  0  0  0  0  0  0  0  0  0  0  0  0  0  0  0  0  0  0  0\n",
            "   0  0  0  0  0  0  0  0  0  0  0  0  0  0  0  0  0  0  0  0  0  0  0  0\n",
            "   0  0  0  0  0  0  0  0  0  0  0  0  0  0  0  0  0  0  0  0  0  0  0  0\n",
            "   0  0  0  0  0  0  0  0  0  0  0  0  0  0  0  0  0  0  0  0  0  0  0  0\n",
            "   0  0  0  0  0  0  0  0  0  0  0  0  0  0  0  0  0  0  0  0]]\n",
            "length of vectorized chars : 284\n"
          ]
        }
      ],
      "source": [
        "random_train_chars = random.choice(train_chars)\n",
        "print(f\"Charified text : \\n{random_train_chars}\")\n",
        "print(f\"\\nLength of random_train_chars : {len(random_train_chars.split())}\")\n",
        "vectorized_chars = char_vectorizer([random_train_chars])\n",
        "print(f\"\\nVectorized chars : \\n{vectorized_chars}\")\n",
        "print(f\"length of vectorized chars : {len(vectorized_chars[0])}\")"
      ]
    },
    {
      "cell_type": "markdown",
      "metadata": {
        "id": "cElyLFObmguv"
      },
      "source": [
        "### Create Custom Character Embedding Layer"
      ]
    },
    {
      "cell_type": "code",
      "execution_count": null,
      "metadata": {
        "id": "e-BX0G46mted"
      },
      "outputs": [],
      "source": [
        "char_embed = layers.Embedding(\n",
        "    input_dim=len(char_vocab),\n",
        "    output_dim = 25, # From paper\n",
        "    mask_zero = False,\n",
        "    name = \"char_embed\"\n",
        ")"
      ]
    },
    {
      "cell_type": "code",
      "execution_count": null,
      "metadata": {
        "colab": {
          "base_uri": "https://localhost:8080/"
        },
        "id": "G82KWvfun27Z",
        "outputId": "a02d5256-cd5b-4481-a417-c28966b2840b"
      },
      "outputs": [
        {
          "output_type": "stream",
          "name": "stdout",
          "text": [
            "Charified text : \n",
            "m o n t e l u k a s t   m a y   b e   a   w e l l - t o l e r a t e d   a n d   e f f e c t i v e   t h e r a p e u t i c   o p t i o n   i n   @   t o   @ - y e a r - o l d   p a t i e n t s   w i t h   m i l d   p e r s i s t e n t   a s t h m a   .\n",
            "\n",
            "Embedded chars (after vectorization and embediing) : \n",
            "[[[ 0.00583391  0.04998305 -0.03748546 ... -0.00188385 -0.04466804\n",
            "    0.03068626]\n",
            "  [ 0.03922478  0.01380214  0.04407493 ...  0.04466847  0.00192391\n",
            "   -0.00847838]\n",
            "  [ 0.01306652 -0.03104612 -0.00607387 ...  0.00618943 -0.03170846\n",
            "    0.00151635]\n",
            "  ...\n",
            "  [-0.03695349 -0.03601331  0.01391498 ... -0.00826678  0.04506515\n",
            "    0.00536103]\n",
            "  [-0.03695349 -0.03601331  0.01391498 ... -0.00826678  0.04506515\n",
            "    0.00536103]\n",
            "  [-0.03695349 -0.03601331  0.01391498 ... -0.00826678  0.04506515\n",
            "    0.00536103]]]\n",
            "\n",
            "Character Embediing shape : (1, 284, 25)\n"
          ]
        }
      ],
      "source": [
        "print(f\"Charified text : \\n{random_train_chars}\\n\")\n",
        "char_embed_example = char_embed(char_vectorizer([random_train_chars]))\n",
        "print(f\"Embedded chars (after vectorization and embediing) : \\n{char_embed_example}\\n\")\n",
        "print(f\"Character Embediing shape : {char_embed_example.shape}\")"
      ]
    },
    {
      "cell_type": "markdown",
      "metadata": {
        "id": "ni-HPb9ioQVM"
      },
      "source": [
        "### Create Positional Embeddings"
      ]
    },
    {
      "cell_type": "code",
      "execution_count": null,
      "metadata": {
        "colab": {
          "base_uri": "https://localhost:8080/"
        },
        "id": "HkdmSoq0oa7W",
        "outputId": "ecb6ad8d-7420-4d91-d71b-389fad9d4092"
      },
      "outputs": [
        {
          "output_type": "execute_result",
          "data": {
            "text/plain": [
              "0     190654\n",
              "1     190654\n",
              "2     190654\n",
              "3     190644\n",
              "4     190357\n",
              "5     189080\n",
              "6     185551\n",
              "7     177967\n",
              "8     164187\n",
              "9     143835\n",
              "10    117871\n",
              "11     90168\n",
              "12     64864\n",
              "13     44350\n",
              "14     29186\n",
              "15     18785\n",
              "16     11803\n",
              "17      7392\n",
              "18      4688\n",
              "19      3030\n",
              "20      1925\n",
              "21      1268\n",
              "22       814\n",
              "23       564\n",
              "24       398\n",
              "25       288\n",
              "26       214\n",
              "27       159\n",
              "28       118\n",
              "29        88\n",
              "30        64\n",
              "31        55\n",
              "32        42\n",
              "33        34\n",
              "34        21\n",
              "35        17\n",
              "36        12\n",
              "37         9\n",
              "40         6\n",
              "38         6\n",
              "39         6\n",
              "41         5\n",
              "42         5\n",
              "43         5\n",
              "44         4\n",
              "45         4\n",
              "46         3\n",
              "47         2\n",
              "48         2\n",
              "49         2\n",
              "50         1\n",
              "Name: line_number, dtype: int64"
            ]
          },
          "metadata": {},
          "execution_count": 54
        }
      ],
      "source": [
        "# How many different line numbers are there?\n",
        "train_df[\"line_number\"].value_counts()"
      ]
    },
    {
      "cell_type": "code",
      "execution_count": null,
      "metadata": {
        "colab": {
          "base_uri": "https://localhost:8080/",
          "height": 293
        },
        "id": "OW8y9Qrcoddu",
        "outputId": "0acccf53-6459-4363-80b3-81ce1b8ba33a"
      },
      "outputs": [
        {
          "output_type": "execute_result",
          "data": {
            "text/plain": [
              "<matplotlib.axes._subplots.AxesSubplot at 0x7f8cdaacb750>"
            ]
          },
          "metadata": {},
          "execution_count": 55
        },
        {
          "output_type": "display_data",
          "data": {
            "text/plain": [
              "<Figure size 432x288 with 1 Axes>"
            ],
            "image/png": "[encoded data removed]"
          },
          "metadata": {
            "needs_background": "light"
          }
        }
      ],
      "source": [
        "# Check the distribution of column\n",
        "train_df.line_number.plot.hist()"
      ]
    },
    {
      "cell_type": "code",
      "execution_count": null,
      "metadata": {
        "colab": {
          "base_uri": "https://localhost:8080/"
        },
        "id": "QuLWjnBmoewn",
        "outputId": "1aad6a1b-607b-4cd1-e987-1bb1ed4f0a31"
      },
      "outputs": [
        {
          "output_type": "execute_result",
          "data": {
            "text/plain": [
              "(<tf.Tensor: shape=(10, 15), dtype=float32, numpy=\n",
              " array([[1., 0., 0., 0., 0., 0., 0., 0., 0., 0., 0., 0., 0., 0., 0.],\n",
              "        [0., 1., 0., 0., 0., 0., 0., 0., 0., 0., 0., 0., 0., 0., 0.],\n",
              "        [0., 0., 1., 0., 0., 0., 0., 0., 0., 0., 0., 0., 0., 0., 0.],\n",
              "        [0., 0., 0., 1., 0., 0., 0., 0., 0., 0., 0., 0., 0., 0., 0.],\n",
              "        [0., 0., 0., 0., 1., 0., 0., 0., 0., 0., 0., 0., 0., 0., 0.],\n",
              "        [0., 0., 0., 0., 0., 1., 0., 0., 0., 0., 0., 0., 0., 0., 0.],\n",
              "        [0., 0., 0., 0., 0., 0., 1., 0., 0., 0., 0., 0., 0., 0., 0.],\n",
              "        [0., 0., 0., 0., 0., 0., 0., 1., 0., 0., 0., 0., 0., 0., 0.],\n",
              "        [0., 0., 0., 0., 0., 0., 0., 0., 1., 0., 0., 0., 0., 0., 0.],\n",
              "        [0., 0., 0., 0., 0., 0., 0., 0., 0., 1., 0., 0., 0., 0., 0.]],\n",
              "       dtype=float32)>, TensorShape([2211861, 15]))"
            ]
          },
          "metadata": {},
          "execution_count": 56
        }
      ],
      "source": [
        "train_line_no_oh = tf.one_hot(train_df[\"line_number\"].to_numpy(),depth= 15)\n",
        "val_line_no_oh = tf.one_hot(val_df[\"line_number\"].to_numpy(),depth= 15)\n",
        "test_line_no_oh = tf.one_hot(test_df[\"line_number\"].to_numpy(),depth= 15)\n",
        "train_line_no_oh[:10],train_line_no_oh.shape"
      ]
    },
    {
      "cell_type": "code",
      "execution_count": null,
      "metadata": {
        "colab": {
          "base_uri": "https://localhost:8080/"
        },
        "id": "hyAZMqbUohLa",
        "outputId": "47b4343c-0eb8-4467-f439-a86a003601ba"
      },
      "outputs": [
        {
          "output_type": "execute_result",
          "data": {
            "text/plain": [
              "10    304733\n",
              "11    303648\n",
              "12    266682\n",
              "9     259640\n",
              "13    212296\n",
              "8     183168\n",
              "14    156015\n",
              "15    111712\n",
              "7     110240\n",
              "16     74987\n",
              "6      53088\n",
              "17     48672\n",
              "18     31502\n",
              "19     22100\n",
              "5      21174\n",
              "20     13797\n",
              "21      9988\n",
              "4       6385\n",
              "22      5750\n",
              "23      3984\n",
              "24      2750\n",
              "25      1924\n",
              "26      1485\n",
              "27      1148\n",
              "3       1148\n",
              "28       870\n",
              "29       720\n",
              "33       442\n",
              "31       416\n",
              "30       279\n",
              "32       264\n",
              "35       180\n",
              "34       140\n",
              "37       114\n",
              "36       111\n",
              "50        51\n",
              "49        50\n",
              "46        47\n",
              "45        46\n",
              "43        44\n",
              "40        41\n",
              "2         30\n",
              "Name: total_lines, dtype: int64"
            ]
          },
          "metadata": {},
          "execution_count": 57
        }
      ],
      "source": [
        "# How many different total line values are there?\n",
        "train_df[\"total_lines\"].value_counts()"
      ]
    },
    {
      "cell_type": "code",
      "execution_count": null,
      "metadata": {
        "colab": {
          "base_uri": "https://localhost:8080/",
          "height": 293
        },
        "id": "KnZlgaGnoikf",
        "outputId": "e7978049-d531-4d5f-a704-1bc692931dd3"
      },
      "outputs": [
        {
          "output_type": "execute_result",
          "data": {
            "text/plain": [
              "<matplotlib.axes._subplots.AxesSubplot at 0x7f8cda25c950>"
            ]
          },
          "metadata": {},
          "execution_count": 58
        },
        {
          "output_type": "display_data",
          "data": {
            "text/plain": [
              "<Figure size 432x288 with 1 Axes>"
            ],
            "image/png": "[encoded data removed]"
          },
          "metadata": {
            "needs_background": "light"
          }
        }
      ],
      "source": [
        "# Check the distribution\n",
        "train_df.total_lines.plot.hist()"
      ]
    },
    {
      "cell_type": "code",
      "execution_count": null,
      "metadata": {
        "colab": {
          "base_uri": "https://localhost:8080/"
        },
        "id": "0pm1dtgjojy6",
        "outputId": "ffb4da03-afcc-4e38-bfe8-3e417f8c2a33"
      },
      "outputs": [
        {
          "output_type": "execute_result",
          "data": {
            "text/plain": [
              "(17.0, 20.0)"
            ]
          },
          "metadata": {},
          "execution_count": 59
        }
      ],
      "source": [
        "np.percentile(train_df.total_lines,95), np.percentile(train_df.total_lines,98)"
      ]
    },
    {
      "cell_type": "code",
      "execution_count": null,
      "metadata": {
        "colab": {
          "base_uri": "https://localhost:8080/"
        },
        "id": "CIfjzjzXolBw",
        "outputId": "be85e59e-40e3-44e1-e6a8-a9b2eeb26f55"
      },
      "outputs": [
        {
          "output_type": "execute_result",
          "data": {
            "text/plain": [
              "(<tf.Tensor: shape=(10, 20), dtype=float32, numpy=\n",
              " array([[0., 0., 0., 0., 0., 0., 0., 0., 0., 0., 1., 0., 0., 0., 0., 0.,\n",
              "         0., 0., 0., 0.],\n",
              "        [0., 0., 0., 0., 0., 0., 0., 0., 0., 0., 1., 0., 0., 0., 0., 0.,\n",
              "         0., 0., 0., 0.],\n",
              "        [0., 0., 0., 0., 0., 0., 0., 0., 0., 0., 1., 0., 0., 0., 0., 0.,\n",
              "         0., 0., 0., 0.],\n",
              "        [0., 0., 0., 0., 0., 0., 0., 0., 0., 0., 1., 0., 0., 0., 0., 0.,\n",
              "         0., 0., 0., 0.],\n",
              "        [0., 0., 0., 0., 0., 0., 0., 0., 0., 0., 1., 0., 0., 0., 0., 0.,\n",
              "         0., 0., 0., 0.],\n",
              "        [0., 0., 0., 0., 0., 0., 0., 0., 0., 0., 1., 0., 0., 0., 0., 0.,\n",
              "         0., 0., 0., 0.],\n",
              "        [0., 0., 0., 0., 0., 0., 0., 0., 0., 0., 1., 0., 0., 0., 0., 0.,\n",
              "         0., 0., 0., 0.],\n",
              "        [0., 0., 0., 0., 0., 0., 0., 0., 0., 0., 1., 0., 0., 0., 0., 0.,\n",
              "         0., 0., 0., 0.],\n",
              "        [0., 0., 0., 0., 0., 0., 0., 0., 0., 0., 1., 0., 0., 0., 0., 0.,\n",
              "         0., 0., 0., 0.],\n",
              "        [0., 0., 0., 0., 0., 0., 0., 0., 0., 0., 1., 0., 0., 0., 0., 0.,\n",
              "         0., 0., 0., 0.]], dtype=float32)>, TensorShape([2211861, 20]))"
            ]
          },
          "metadata": {},
          "execution_count": 60
        }
      ],
      "source": [
        "train_total_lines_no_oh = tf.one_hot(train_df[\"total_lines\"].to_numpy(),depth=20)\n",
        "val_total_lines_no_oh = tf.one_hot(val_df[\"total_lines\"].to_numpy(),depth=20)\n",
        "test_total_lines_no_oh = tf.one_hot(test_df[\"total_lines\"].to_numpy(),depth= 20)\n",
        "train_total_lines_no_oh[:10],train_total_lines_no_oh.shape"
      ]
    },
    {
      "cell_type": "markdown",
      "metadata": {
        "id": "fzXj5OxJoqL3"
      },
      "source": [
        "### Creating datasets for model 2"
      ]
    },
    {
      "cell_type": "code",
      "execution_count": null,
      "metadata": {
        "colab": {
          "base_uri": "https://localhost:8080/"
        },
        "id": "ahRqe5LZomEV",
        "outputId": "8276927a-d671-4e1e-ae05-c6dcfc4a7f63"
      },
      "outputs": [
        {
          "output_type": "execute_result",
          "data": {
            "text/plain": [
              "<PrefetchDataset element_spec=((TensorSpec(shape=(None, 15), dtype=tf.float32, name=None), TensorSpec(shape=(None, 20), dtype=tf.float32, name=None), TensorSpec(shape=(None,), dtype=tf.string, name=None), TensorSpec(shape=(None,), dtype=tf.string, name=None)), TensorSpec(shape=(None, 5), dtype=tf.float64, name=None))>"
            ]
          },
          "metadata": {},
          "execution_count": 61
        }
      ],
      "source": [
        "final_train_data = tf.data.Dataset.from_tensor_slices((train_line_no_oh,train_total_lines_no_oh,train_sen,train_chars))\n",
        "final_train_labels = tf.data.Dataset.from_tensor_slices(train_labels_oh)\n",
        "final_train_dataset = tf.data.Dataset.zip((final_train_data,final_train_labels))\n",
        "\n",
        "final_train_dataset = final_train_dataset.batch(32).prefetch(tf.data.AUTOTUNE)\n",
        "final_train_dataset"
      ]
    },
    {
      "cell_type": "code",
      "execution_count": null,
      "metadata": {
        "colab": {
          "base_uri": "https://localhost:8080/"
        },
        "id": "_EUUhbtdooIa",
        "outputId": "a5041255-cd89-4dd5-b0fe-1c0f4829d2bf"
      },
      "outputs": [
        {
          "output_type": "execute_result",
          "data": {
            "text/plain": [
              "<PrefetchDataset element_spec=((TensorSpec(shape=(None, 15), dtype=tf.float32, name=None), TensorSpec(shape=(None, 20), dtype=tf.float32, name=None), TensorSpec(shape=(None,), dtype=tf.string, name=None), TensorSpec(shape=(None,), dtype=tf.string, name=None)), TensorSpec(shape=(None, 5), dtype=tf.float64, name=None))>"
            ]
          },
          "metadata": {},
          "execution_count": 62
        }
      ],
      "source": [
        "final_val_data = tf.data.Dataset.from_tensor_slices((val_line_no_oh,val_total_lines_no_oh,val_sen,val_chars))\n",
        "final_val_labels = tf.data.Dataset.from_tensor_slices(val_labels_oh)\n",
        "final_val_dataset = tf.data.Dataset.zip((final_val_data,final_val_labels))\n",
        "\n",
        "final_val_dataset = final_val_dataset.batch(32).prefetch(tf.data.AUTOTUNE)\n",
        "final_val_dataset"
      ]
    },
    {
      "cell_type": "code",
      "execution_count": null,
      "metadata": {
        "colab": {
          "base_uri": "https://localhost:8080/"
        },
        "id": "sspIccOPpD_f",
        "outputId": "8fb4822a-14a9-402d-e086-589d21c345ad"
      },
      "outputs": [
        {
          "output_type": "execute_result",
          "data": {
            "text/plain": [
              "<PrefetchDataset element_spec=((TensorSpec(shape=(None, 15), dtype=tf.float32, name=None), TensorSpec(shape=(None, 20), dtype=tf.float32, name=None), TensorSpec(shape=(None,), dtype=tf.string, name=None), TensorSpec(shape=(None,), dtype=tf.string, name=None)), TensorSpec(shape=(None, 5), dtype=tf.float64, name=None))>"
            ]
          },
          "metadata": {},
          "execution_count": 63
        }
      ],
      "source": [
        "final_test_data = tf.data.Dataset.from_tensor_slices((test_line_no_oh,test_total_lines_no_oh,test_sen,test_chars))\n",
        "final_test_labels = tf.data.Dataset.from_tensor_slices(test_labels_oh)\n",
        "final_test_dataset = tf.data.Dataset.zip((final_test_data,final_test_labels))\n",
        "\n",
        "final_test_dataset = final_test_dataset.batch(32).prefetch(tf.data.AUTOTUNE)\n",
        "final_test_dataset"
      ]
    },
    {
      "cell_type": "markdown",
      "metadata": {
        "id": "0SEP7-X1pa-m"
      },
      "source": [
        "### Model 2 : Transfer learning with pretrained token embediings + character embeddings + positional embediings"
      ]
    },
    {
      "cell_type": "code",
      "execution_count": null,
      "metadata": {
        "id": "A9qRffeVpe7F"
      },
      "outputs": [],
      "source": [
        "# 1. Token inputs\n",
        "token_inputs = layers.Input(shape=[],dtype = tf.string,name = \"token_inputs\")\n",
        "token_embeddings = tf_hub_embedding_layer(token_inputs)\n",
        "token_output = layers.Dense(256,activation =\"relu\")(token_embeddings)\n",
        "token_model = tf.keras.Model(inputs = token_inputs,\n",
        "                             outputs = token_output)"
      ]
    },
    {
      "cell_type": "code",
      "execution_count": null,
      "metadata": {
        "id": "SWPNXoF9pg7S"
      },
      "outputs": [],
      "source": [
        "# 2. Char inputs\n",
        "char_inputs = layers.Input(shape=(1,),dtype = tf.string,name= \"char_inputs\")\n",
        "char_vectors = char_vectorizer(char_inputs)\n",
        "char_embeddings = char_embed(char_vectors)\n",
        "char_bi_lstm = layers.Bidirectional(layers.LSTM(24))(char_embeddings)\n",
        "char_model = tf.keras.Model(inputs = char_inputs,\n",
        "                            outputs = char_bi_lstm)"
      ]
    },
    {
      "cell_type": "code",
      "execution_count": null,
      "metadata": {
        "id": "rbWLi_xWpibA"
      },
      "outputs": [],
      "source": [
        "# 3. Line Number Model\n",
        "line_no_inputs = layers.Input(shape=(15,),dtype = tf.float32,name=\"line_no_inputs\")\n",
        "x = layers.Dense(32,activation=\"relu\")(line_no_inputs)\n",
        "line_no_model = tf.keras.Model(inputs = line_no_inputs,\n",
        "                               outputs = x)"
      ]
    },
    {
      "cell_type": "code",
      "execution_count": null,
      "metadata": {
        "id": "Y4lPQMOqpj6v"
      },
      "outputs": [],
      "source": [
        "# 4. Total Line Number Model\n",
        "total_lines_inputs = layers.Input(shape=(20,),dtype=tf.float32,name=\"total_lines_inputs\")\n",
        "y = layers.Dense(32,activation=\"relu\")(total_lines_inputs)\n",
        "\n",
        "total_lines_model = tf.keras.Model(inputs = total_lines_inputs,\n",
        "                                      outputs = y)"
      ]
    },
    {
      "cell_type": "code",
      "execution_count": null,
      "metadata": {
        "id": "yaIDa6KTplaR"
      },
      "outputs": [],
      "source": [
        "# 5. Combine 1 and 2 into a hybrid embedding\n",
        "combined_embeddings = layers.Concatenate(name=\"char_token_hybrid_embedding\")([token_model.output,\n",
        "                                                                              char_model.output])"
      ]
    },
    {
      "cell_type": "code",
      "execution_count": null,
      "metadata": {
        "id": "p8Za-QZmpnDS"
      },
      "outputs": [],
      "source": [
        "# 6. \n",
        "z = layers.Dense(256,activation=\"relu\")(combined_embeddings)\n",
        "z = layers.Dropout(0.5)(z)"
      ]
    },
    {
      "cell_type": "code",
      "execution_count": null,
      "metadata": {
        "id": "v9u5RuFCpoIh"
      },
      "outputs": [],
      "source": [
        "# 7. Combine positional embediing with 5\n",
        "tribrid_embeddings = layers.Concatenate(name=\"char_token_positional_embedding\")([line_no_model.output,\n",
        "                                                                                 total_lines_model.output,\n",
        "                                                                                 z])"
      ]
    },
    {
      "cell_type": "code",
      "execution_count": null,
      "metadata": {
        "id": "bAmhJ39ppphh"
      },
      "outputs": [],
      "source": [
        "# 8. Create output layer\n",
        "output_layer = layers.Dense(num_classes,activation=\"softmax\",name = \"output_layer\")(tribrid_embeddings)"
      ]
    },
    {
      "cell_type": "code",
      "execution_count": null,
      "metadata": {
        "id": "uxafVxNXpq72"
      },
      "outputs": [],
      "source": [
        "# 9. Put together model with all kinds of inputs\n",
        "model_2 = tf.keras.Model(\n",
        "    inputs=[\n",
        "            line_no_model.input,\n",
        "            total_lines_model.input,\n",
        "            token_model.input,\n",
        "            char_model.input\n",
        "    ],\n",
        "    outputs=output_layer,\n",
        "    name = \"tribrid_embedding_model\"\n",
        ")"
      ]
    },
    {
      "cell_type": "code",
      "execution_count": null,
      "metadata": {
        "colab": {
          "base_uri": "https://localhost:8080/"
        },
        "id": "fl1Sh2bEps0P",
        "outputId": "f56ac134-b7c5-44a0-ea66-d25b5531e853"
      },
      "outputs": [
        {
          "output_type": "stream",
          "name": "stdout",
          "text": [
            "Model: \"tribrid_embedding_model\"\n",
            "__________________________________________________________________________________________________\n",
            " Layer (type)                   Output Shape         Param #     Connected to                     \n",
            "==================================================================================================\n",
            " char_inputs (InputLayer)       [(None, 1)]          0           []                               \n",
            "                                                                                                  \n",
            " token_inputs (InputLayer)      [(None,)]            0           []                               \n",
            "                                                                                                  \n",
            " char_vectorizer (TextVectoriza  (None, 284)         0           ['char_inputs[0][0]']            \n",
            " tion)                                                                                            \n",
            "                                                                                                  \n",
            " USE (KerasLayer)               (None, 512)          256797824   ['token_inputs[0][0]']           \n",
            "                                                                                                  \n",
            " char_embed (Embedding)         (None, 284, 25)      700         ['char_vectorizer[0][0]']        \n",
            "                                                                                                  \n",
            " dense (Dense)                  (None, 256)          131328      ['USE[0][0]']                    \n",
            "                                                                                                  \n",
            " bidirectional (Bidirectional)  (None, 48)           9600        ['char_embed[0][0]']             \n",
            "                                                                                                  \n",
            " char_token_hybrid_embedding (C  (None, 304)         0           ['dense[0][0]',                  \n",
            " oncatenate)                                                      'bidirectional[0][0]']          \n",
            "                                                                                                  \n",
            " line_no_inputs (InputLayer)    [(None, 15)]         0           []                               \n",
            "                                                                                                  \n",
            " total_lines_inputs (InputLayer  [(None, 20)]        0           []                               \n",
            " )                                                                                                \n",
            "                                                                                                  \n",
            " dense_3 (Dense)                (None, 256)          78080       ['char_token_hybrid_embedding[0][\n",
            "                                                                 0]']                             \n",
            "                                                                                                  \n",
            " dense_1 (Dense)                (None, 32)           512         ['line_no_inputs[0][0]']         \n",
            "                                                                                                  \n",
            " dense_2 (Dense)                (None, 32)           672         ['total_lines_inputs[0][0]']     \n",
            "                                                                                                  \n",
            " dropout (Dropout)              (None, 256)          0           ['dense_3[0][0]']                \n",
            "                                                                                                  \n",
            " char_token_positional_embeddin  (None, 320)         0           ['dense_1[0][0]',                \n",
            " g (Concatenate)                                                  'dense_2[0][0]',                \n",
            "                                                                  'dropout[0][0]']                \n",
            "                                                                                                  \n",
            " output_layer (Dense)           (None, 5)            1605        ['char_token_positional_embedding\n",
            "                                                                 [0][0]']                         \n",
            "                                                                                                  \n",
            "==================================================================================================\n",
            "Total params: 257,020,321\n",
            "Trainable params: 222,497\n",
            "Non-trainable params: 256,797,824\n",
            "__________________________________________________________________________________________________\n"
          ]
        }
      ],
      "source": [
        "model_2.summary()"
      ]
    },
    {
      "cell_type": "code",
      "execution_count": null,
      "metadata": {
        "colab": {
          "base_uri": "https://localhost:8080/",
          "height": 576
        },
        "id": "TlIzwzJ4pvZf",
        "outputId": "bfb4af2b-6d0f-450a-a83b-b0db8c4a7b8e"
      },
      "outputs": [
        {
          "output_type": "execute_result",
          "data": {
            "text/plain": [
              "<IPython.core.display.Image object>"
            ],
            "image/png": "[encoded data removed]"
          },
          "metadata": {},
          "execution_count": 74
        }
      ],
      "source": [
        "tf.keras.utils.plot_model(model_2,show_shapes = True)"
      ]
    },
    {
      "cell_type": "code",
      "execution_count": null,
      "metadata": {
        "id": "Cllp3yDspxBF"
      },
      "outputs": [],
      "source": [
        "model_2.compile(loss = tf.keras.losses.CategoricalCrossentropy(label_smoothing=0.2),\n",
        "                optimizer = tf.keras.optimizers.Adam(),\n",
        "                metrics=[\"accuracy\"])"
      ]
    },
    {
      "cell_type": "markdown",
      "source": [
        "#### Training Model 2"
      ],
      "metadata": {
        "id": "EHh6tLlYAnXV"
      }
    },
    {
      "cell_type": "code",
      "execution_count": null,
      "metadata": {
        "id": "Qqn8oXnmqkW9"
      },
      "outputs": [],
      "source": [
        "run_dir = \"/content/drive/MyDrive/PubMed/Checkpoints/Model2/\"\n",
        "checkpoint_path = os.path.join(run_dir,'model-{epoch:02d}-{val_loss:02f}.ckpt')\n",
        "checkpoint_callback = tf.keras.callbacks.ModelCheckpoint(checkpoint_path, save_weights_only=True, monitor=\"val_accuracy\")"
      ]
    },
    {
      "cell_type": "code",
      "execution_count": null,
      "metadata": {
        "id": "EJU6HbZEM6BW"
      },
      "outputs": [],
      "source": [
        "model_2.save_weights(checkpoint_path.format(epoch=0,val_loss=0.00))"
      ]
    },
    {
      "cell_type": "code",
      "execution_count": null,
      "metadata": {
        "colab": {
          "base_uri": "https://localhost:8080/"
        },
        "id": "pPGfwWWAp27c",
        "outputId": "b7fc1ba2-d8a8-4e5c-dbef-f85a505231f2"
      },
      "outputs": [
        {
          "output_type": "stream",
          "name": "stdout",
          "text": [
            "Saving TensorBoard log files to: PubMedAbstracts/model_2_Tribrid/20220703-161759\n",
            "Epoch 1/8\n",
            "13824/13824 [==============================] - 482s 34ms/step - loss: 0.9220 - accuracy: 0.8419 - val_loss: 0.8888 - val_accuracy: 0.8674\n",
            "Epoch 2/8\n",
            "13824/13824 [==============================] - 474s 34ms/step - loss: 0.8981 - accuracy: 0.8590 - val_loss: 0.8782 - val_accuracy: 0.8696\n",
            "Epoch 3/8\n",
            "13824/13824 [==============================] - 468s 34ms/step - loss: 0.8921 - accuracy: 0.8638 - val_loss: 0.8766 - val_accuracy: 0.8759\n",
            "Epoch 4/8\n",
            "13824/13824 [==============================] - 481s 35ms/step - loss: 0.8892 - accuracy: 0.8653 - val_loss: 0.8707 - val_accuracy: 0.8752\n",
            "Epoch 5/8\n",
            "13824/13824 [==============================] - 473s 34ms/step - loss: 0.8867 - accuracy: 0.8669 - val_loss: 0.8685 - val_accuracy: 0.8776\n",
            "Epoch 6/8\n",
            "    1/13824 [..............................] - ETA: 29:11 - loss: 1.1963 - accuracy: 0.7143WARNING:tensorflow:Your input ran out of data; interrupting training. Make sure that your dataset or generator can generate at least `steps_per_epoch * epochs` batches (in this case, 110592 batches). You may need to use the repeat() function when building your dataset.\n"
          ]
        },
        {
          "output_type": "stream",
          "name": "stderr",
          "text": [
            "WARNING:tensorflow:Your input ran out of data; interrupting training. Make sure that your dataset or generator can generate at least `steps_per_epoch * epochs` batches (in this case, 110592 batches). You may need to use the repeat() function when building your dataset.\n"
          ]
        },
        {
          "output_type": "stream",
          "name": "stdout",
          "text": [
            "\b\b\b\b\b\b\b\b\b\b\b\b\b\b\b\b\b\b\b\b\b\b\b\b\b\b\b\b\b\b\b\b\b\b\b\b\b\b\b\b\b\b\b\b\b\b\b\b\b\b\b\b\b\b\b\b\b\b\b\b\b\b\b\b\b\b\b\b\b\b\b\b\b\b\b\b\b\b\b\b\b\b\b\b\b\b\b\b\b\b\b\r13824/13824 [==============================] - 11s 786us/step - loss: 1.1963 - accuracy: 0.7143 - val_loss: 0.8686 - val_accuracy: 0.8776\n"
          ]
        }
      ],
      "source": [
        "history_model_2 = model_2.fit(\n",
        "    final_train_dataset,\n",
        "    epochs = 4,\n",
        "    steps_per_epoch = int(0.2 * len(final_train_dataset)),\n",
        "    validation_data = final_val_dataset,\n",
        "    validation_steps = int(0.2 * len(final_val_dataset)),\n",
        "    callbacks = [checkpoint_callback,create_tensorboard_callback(\"PubMedAbstracts\",\"model_2_Tribrid\")]\n",
        ")"
      ]
    },
    {
      "cell_type": "code",
      "execution_count": null,
      "metadata": {
        "colab": {
          "base_uri": "https://localhost:8080/",
          "height": 573
        },
        "id": "_DT8nwUgqCmL",
        "outputId": "a62f0687-0abc-4333-fc3f-013b015778d1"
      },
      "outputs": [
        {
          "output_type": "display_data",
          "data": {
            "text/plain": [
              "<Figure size 432x288 with 1 Axes>"
            ],
            "image/png": "[encoded data removed]"
          },
          "metadata": {
            "needs_background": "light"
          }
        },
        {
          "output_type": "display_data",
          "data": {
            "text/plain": [
              "<Figure size 432x288 with 1 Axes>"
            ],
            "image/png": "[encoded data removed]"
          },
          "metadata": {
            "needs_background": "light"
          }
        }
      ],
      "source": [
        "plot_loss_curves(history_model_2)   "
      ]
    },
    {
      "cell_type": "code",
      "execution_count": null,
      "metadata": {
        "colab": {
          "base_uri": "https://localhost:8080/"
        },
        "id": "0Oon4-nfqFSK",
        "outputId": "40865270-933b-4940-8486-83bb7acba612"
      },
      "outputs": [
        {
          "output_type": "stream",
          "name": "stdout",
          "text": [
            "905/905 [==============================] - 20s 22ms/step - loss: 0.8717 - accuracy: 0.8734\n"
          ]
        },
        {
          "output_type": "execute_result",
          "data": {
            "text/plain": [
              "[0.8717097043991089, 0.8734273314476013]"
            ]
          },
          "metadata": {},
          "execution_count": 82
        }
      ],
      "source": [
        "model_2.evaluate(final_val_dataset)"
      ]
    },
    {
      "cell_type": "code",
      "execution_count": null,
      "metadata": {
        "colab": {
          "base_uri": "https://localhost:8080/"
        },
        "id": "l2LTYr-yqI2p",
        "outputId": "91bf770c-b5f3-418e-c77f-f78db3041ea6"
      },
      "outputs": [
        {
          "output_type": "stream",
          "name": "stdout",
          "text": [
            "905/905 [==============================] - 20s 20ms/step\n"
          ]
        },
        {
          "output_type": "execute_result",
          "data": {
            "text/plain": [
              "array([[0.6032613 , 0.07596014, 0.02109765, 0.2057651 , 0.09391581],\n",
              "       [0.17835152, 0.05637062, 0.53189176, 0.14378005, 0.08960597],\n",
              "       [0.2173466 , 0.06742144, 0.12350743, 0.13136552, 0.46035898],\n",
              "       ...,\n",
              "       [0.05464381, 0.4273169 , 0.04814114, 0.05174817, 0.41815   ],\n",
              "       [0.03892323, 0.4010786 , 0.03513567, 0.04279232, 0.48207018],\n",
              "       [0.04334851, 0.84735656, 0.02474161, 0.02641438, 0.05813896]],\n",
              "      dtype=float32)"
            ]
          },
          "metadata": {},
          "execution_count": 83
        }
      ],
      "source": [
        "model_2_pred_probs = model_2.predict(final_val_dataset,verbose = 1)\n",
        "model_2_pred_probs"
      ]
    },
    {
      "cell_type": "code",
      "execution_count": null,
      "metadata": {
        "colab": {
          "base_uri": "https://localhost:8080/"
        },
        "id": "ZRVPP1UwqKJu",
        "outputId": "6a189aab-ee4a-4f38-8b85-57f7f7002ac1"
      },
      "outputs": [
        {
          "output_type": "execute_result",
          "data": {
            "text/plain": [
              "<tf.Tensor: shape=(28932,), dtype=int64, numpy=array([0, 2, 4, ..., 1, 4, 1])>"
            ]
          },
          "metadata": {},
          "execution_count": 84
        }
      ],
      "source": [
        "model_2_preds = tf.argmax(model_2_pred_probs,axis = 1)\n",
        "model_2_preds"
      ]
    },
    {
      "cell_type": "code",
      "execution_count": null,
      "metadata": {
        "colab": {
          "base_uri": "https://localhost:8080/"
        },
        "id": "o7fuOM23qOby",
        "outputId": "d654d5a4-c68c-4549-bd30-b7b55e0d2348"
      },
      "outputs": [
        {
          "output_type": "execute_result",
          "data": {
            "text/plain": [
              "{'accuracy': 87.34273468823449,\n",
              " 'f1': 0.8718500149406635,\n",
              " 'precision': 0.8753639087836202,\n",
              " 'recall': 0.8734273468823448}"
            ]
          },
          "metadata": {},
          "execution_count": 85
        }
      ],
      "source": [
        "model_2_results = calculate_results(y_true = val_labels_encoded,\n",
        "                  y_pred = model_2_preds)\n",
        "model_2_results"
      ]
    },
    {
      "cell_type": "markdown",
      "source": [
        "### Load Model 2"
      ],
      "metadata": {
        "id": "xlrKHJTf5Hdb"
      }
    },
    {
      "cell_type": "code",
      "source": [
        "run_dir = \"/content/drive/MyDrive/PubMed/Checkpoints/Model2/\"\n",
        "checkpoint_path = os.path.join(run_dir,'model-{epoch:02d}-{val_loss:02f}.ckpt')\n",
        "\n",
        "checkpoint_dir = os.path.dirname(checkpoint_path)\n",
        "latest = tf.train.latest_checkpoint(checkpoint_dir)\n",
        "\n",
        "model = tf.keras.Model(\n",
        "    inputs=[\n",
        "            line_no_model.input,\n",
        "            total_lines_model.input,\n",
        "            token_model.input,\n",
        "            char_model.input\n",
        "    ],\n",
        "    outputs=output_layer,\n",
        "    name = \"tribrid_embedding_model\"\n",
        ")\n",
        "\n",
        "\n",
        "model.compile(loss = tf.keras.losses.CategoricalCrossentropy(label_smoothing=0.2),\n",
        "                optimizer = tf.keras.optimizers.Adam(),\n",
        "                metrics=[\"accuracy\"])\n",
        "\n",
        "model.load_weights(latest)\n",
        "model.evaluate(final_val_dataset)"
      ],
      "metadata": {
        "colab": {
          "base_uri": "https://localhost:8080/"
        },
        "id": "ajAmmb0_8dgH",
        "outputId": "85cf7961-22cc-42d7-9b8e-87dc855f6adc"
      },
      "execution_count": null,
      "outputs": [
        {
          "output_type": "stream",
          "name": "stdout",
          "text": [
            "905/905 [==============================] - 23s 23ms/step - loss: 0.8717 - accuracy: 0.8734\n"
          ]
        },
        {
          "output_type": "execute_result",
          "data": {
            "text/plain": [
              "[0.8717097043991089, 0.8734273314476013]"
            ]
          },
          "metadata": {},
          "execution_count": 87
        }
      ]
    },
    {
      "cell_type": "markdown",
      "source": [
        "## Save Model"
      ],
      "metadata": {
        "id": "r7kNfgDOsyP5"
      }
    },
    {
      "cell_type": "code",
      "source": [
        "model.save(\"/content/drive/MyDrive/PubMed/pubmed_200k_model\")"
      ],
      "metadata": {
        "colab": {
          "base_uri": "https://localhost:8080/"
        },
        "id": "I0GStPhAs4Tx",
        "outputId": "4580ebdb-9967-416d-868e-912297b01788"
      },
      "execution_count": null,
      "outputs": [
        {
          "output_type": "stream",
          "name": "stderr",
          "text": [
            "WARNING:absl:Found untraced functions such as lstm_cell_1_layer_call_fn, lstm_cell_1_layer_call_and_return_conditional_losses, lstm_cell_2_layer_call_fn, lstm_cell_2_layer_call_and_return_conditional_losses while saving (showing 4 of 4). These functions will not be directly callable after loading.\n"
          ]
        },
        {
          "output_type": "stream",
          "name": "stdout",
          "text": [
            "INFO:tensorflow:Assets written to: /content/drive/MyDrive/PubMed/pubmed_200k_model/assets\n"
          ]
        },
        {
          "output_type": "stream",
          "name": "stderr",
          "text": [
            "INFO:tensorflow:Assets written to: /content/drive/MyDrive/PubMed/pubmed_200k_model/assets\n",
            "WARNING:absl:<keras.layers.recurrent.LSTMCell object at 0x7fc36ab1a210> has the same name 'LSTMCell' as a built-in Keras object. Consider renaming <class 'keras.layers.recurrent.LSTMCell'> to avoid naming conflicts when loading with `tf.keras.models.load_model`. If renaming is not possible, pass the object in the `custom_objects` parameter of the load function.\n",
            "WARNING:absl:<keras.layers.recurrent.LSTMCell object at 0x7fc36a99fb50> has the same name 'LSTMCell' as a built-in Keras object. Consider renaming <class 'keras.layers.recurrent.LSTMCell'> to avoid naming conflicts when loading with `tf.keras.models.load_model`. If renaming is not possible, pass the object in the `custom_objects` parameter of the load function.\n"
          ]
        }
      ]
    },
    {
      "cell_type": "code",
      "source": [
        "import tensorflow_hub as hub\n",
        "import tensorflow as tf\n",
        "from tensorflow.keras.layers import TextVectorization"
      ],
      "metadata": {
        "id": "lqS-5uImtY7P"
      },
      "execution_count": null,
      "outputs": []
    },
    {
      "cell_type": "code",
      "source": [
        "model_path = \"/content/drive/MyDrive/PubMed/pubmed_200k_model\"\n",
        "model = tf.keras.models.load_model(model_path,custom_objects={\"TextVectorization\": TextVectorization,\"KerasLayer\": hub.KerasLayer})"
      ],
      "metadata": {
        "id": "0RlHZuATtbT6"
      },
      "execution_count": null,
      "outputs": []
    },
    {
      "cell_type": "code",
      "source": [
        "pred_probs = loaded_model.predict(final_val_dataset, verbose=1)\n",
        "preds = tf.argmax(loaded_pred_probs, axis=1)"
      ],
      "metadata": {
        "colab": {
          "base_uri": "https://localhost:8080/"
        },
        "id": "-W5bGNNkticu",
        "outputId": "71be9e55-3d3a-4849-c680-dd92fae5f753"
      },
      "execution_count": null,
      "outputs": [
        {
          "output_type": "stream",
          "name": "stdout",
          "text": [
            "905/905 [==============================] - 19s 21ms/step\n"
          ]
        }
      ]
    },
    {
      "cell_type": "code",
      "source": [
        "model.evaluate(final_val_dataset)"
      ],
      "metadata": {
        "colab": {
          "base_uri": "https://localhost:8080/"
        },
        "id": "FyGdXZ6Itnyx",
        "outputId": "d649b81c-1946-464b-dd49-6dedeab24d44"
      },
      "execution_count": null,
      "outputs": [
        {
          "output_type": "stream",
          "name": "stdout",
          "text": [
            "905/905 [==============================] - 21s 21ms/step - loss: 0.8724 - accuracy: 0.8722\n"
          ]
        },
        {
          "output_type": "execute_result",
          "data": {
            "text/plain": [
              "[0.8724027276039124, 0.87221759557724]"
            ]
          },
          "metadata": {},
          "execution_count": 82
        }
      ]
    },
    {
      "cell_type": "markdown",
      "metadata": {
        "id": "4XbsvGT5qRSY"
      },
      "source": [
        "## Compare Model Results"
      ]
    },
    {
      "cell_type": "code",
      "execution_count": null,
      "metadata": {
        "colab": {
          "base_uri": "https://localhost:8080/",
          "height": 143
        },
        "id": "X7_WbQxjqU95",
        "outputId": "3ad57bb3-210e-425c-f535-dcaf96dd0c1f"
      },
      "outputs": [
        {
          "output_type": "execute_result",
          "data": {
            "text/plain": [
              "                                       accuracy  precision    recall        f1\n",
              "model_0_baseline                      74.975805   0.743197  0.749758  0.738957\n",
              "model_1_custom_token_embed_conv1d     84.525785   0.841787  0.845258  0.842549\n",
              "model_2_tribrid_pos_char_token_embed  87.221761   0.874084  0.872218  0.870691"
            ],
            "text/html": [
              "\n",
              "  <div id=\"df-c5a35b93-89d5-4b30-bbcd-5d294926e828\">\n",
              "    <div class=\"colab-df-container\">\n",
              "      <div>\n",
              "<style scoped>\n",
              "    .dataframe tbody tr th:only-of-type {\n",
              "        vertical-align: middle;\n",
              "    }\n",
              "\n",
              "    .dataframe tbody tr th {\n",
              "        vertical-align: top;\n",
              "    }\n",
              "\n",
              "    .dataframe thead th {\n",
              "        text-align: right;\n",
              "    }\n",
              "</style>\n",
              "<table border=\"1\" class=\"dataframe\">\n",
              "  <thead>\n",
              "    <tr style=\"text-align: right;\">\n",
              "      <th></th>\n",
              "      <th>accuracy</th>\n",
              "      <th>precision</th>\n",
              "      <th>recall</th>\n",
              "      <th>f1</th>\n",
              "    </tr>\n",
              "  </thead>\n",
              "  <tbody>\n",
              "    <tr>\n",
              "      <th>model_0_baseline</th>\n",
              "      <td>74.975805</td>\n",
              "      <td>0.743197</td>\n",
              "      <td>0.749758</td>\n",
              "      <td>0.738957</td>\n",
              "    </tr>\n",
              "    <tr>\n",
              "      <th>model_1_custom_token_embed_conv1d</th>\n",
              "      <td>84.525785</td>\n",
              "      <td>0.841787</td>\n",
              "      <td>0.845258</td>\n",
              "      <td>0.842549</td>\n",
              "    </tr>\n",
              "    <tr>\n",
              "      <th>model_2_tribrid_pos_char_token_embed</th>\n",
              "      <td>87.221761</td>\n",
              "      <td>0.874084</td>\n",
              "      <td>0.872218</td>\n",
              "      <td>0.870691</td>\n",
              "    </tr>\n",
              "  </tbody>\n",
              "</table>\n",
              "</div>\n",
              "      <button class=\"colab-df-convert\" onclick=\"convertToInteractive('df-c5a35b93-89d5-4b30-bbcd-5d294926e828')\"\n",
              "              title=\"Convert this dataframe to an interactive table.\"\n",
              "              style=\"display:none;\">\n",
              "        \n",
              "  <svg xmlns=\"http://www.w3.org/2000/svg\" height=\"24px\"viewBox=\"0 0 24 24\"\n",
              "       width=\"24px\">\n",
              "    <path d=\"M0 0h24v24H0V0z\" fill=\"none\"/>\n",
              "    <path d=\"M18.56 5.44l.94 2.06.94-2.06 2.06-.94-2.06-.94-.94-2.06-.94 2.06-2.06.94zm-11 1L8.5 8.5l.94-2.06 2.06-.94-2.06-.94L8.5 2.5l-.94 2.06-2.06.94zm10 10l.94 2.06.94-2.06 2.06-.94-2.06-.94-.94-2.06-.94 2.06-2.06.94z\"/><path d=\"M17.41 7.96l-1.37-1.37c-.4-.4-.92-.59-1.43-.59-.52 0-1.04.2-1.43.59L10.3 9.45l-7.72 7.72c-.78.78-.78 2.05 0 2.83L4 21.41c.39.39.9.59 1.41.59.51 0 1.02-.2 1.41-.59l7.78-7.78 2.81-2.81c.8-.78.8-2.07 0-2.86zM5.41 20L4 18.59l7.72-7.72 1.47 1.35L5.41 20z\"/>\n",
              "  </svg>\n",
              "      </button>\n",
              "      \n",
              "  <style>\n",
              "    .colab-df-container {\n",
              "      display:flex;\n",
              "      flex-wrap:wrap;\n",
              "      gap: 12px;\n",
              "    }\n",
              "\n",
              "    .colab-df-convert {\n",
              "      background-color: #E8F0FE;\n",
              "      border: none;\n",
              "      border-radius: 50%;\n",
              "      cursor: pointer;\n",
              "      display: none;\n",
              "      fill: #1967D2;\n",
              "      height: 32px;\n",
              "      padding: 0 0 0 0;\n",
              "      width: 32px;\n",
              "    }\n",
              "\n",
              "    .colab-df-convert:hover {\n",
              "      background-color: #E2EBFA;\n",
              "      box-shadow: 0px 1px 2px rgba(60, 64, 67, 0.3), 0px 1px 3px 1px rgba(60, 64, 67, 0.15);\n",
              "      fill: #174EA6;\n",
              "    }\n",
              "\n",
              "    [theme=dark] .colab-df-convert {\n",
              "      background-color: #3B4455;\n",
              "      fill: #D2E3FC;\n",
              "    }\n",
              "\n",
              "    [theme=dark] .colab-df-convert:hover {\n",
              "      background-color: #434B5C;\n",
              "      box-shadow: 0px 1px 3px 1px rgba(0, 0, 0, 0.15);\n",
              "      filter: drop-shadow(0px 1px 2px rgba(0, 0, 0, 0.3));\n",
              "      fill: #FFFFFF;\n",
              "    }\n",
              "  </style>\n",
              "\n",
              "      <script>\n",
              "        const buttonEl =\n",
              "          document.querySelector('#df-c5a35b93-89d5-4b30-bbcd-5d294926e828 button.colab-df-convert');\n",
              "        buttonEl.style.display =\n",
              "          google.colab.kernel.accessAllowed ? 'block' : 'none';\n",
              "\n",
              "        async function convertToInteractive(key) {\n",
              "          const element = document.querySelector('#df-c5a35b93-89d5-4b30-bbcd-5d294926e828');\n",
              "          const dataTable =\n",
              "            await google.colab.kernel.invokeFunction('convertToInteractive',\n",
              "                                                     [key], {});\n",
              "          if (!dataTable) return;\n",
              "\n",
              "          const docLinkHtml = 'Like what you see? Visit the ' +\n",
              "            '<a target=\"_blank\" href=https://colab.research.google.com/notebooks/data_table.ipynb>data table notebook</a>'\n",
              "            + ' to learn more about interactive tables.';\n",
              "          element.innerHTML = '';\n",
              "          dataTable['output_type'] = 'display_data';\n",
              "          await google.colab.output.renderOutput(dataTable, element);\n",
              "          const docLink = document.createElement('div');\n",
              "          docLink.innerHTML = docLinkHtml;\n",
              "          element.appendChild(docLink);\n",
              "        }\n",
              "      </script>\n",
              "    </div>\n",
              "  </div>\n",
              "  "
            ]
          },
          "metadata": {},
          "execution_count": 110
        }
      ],
      "source": [
        "model_results = pd.DataFrame(\n",
        "    {\n",
        "        \"model_0_baseline\": baseline_results,\n",
        "        \"model_1_custom_token_embed_conv1d\": model_1_results,\n",
        "        \"model_2_tribrid_pos_char_token_embed\": model_2_results\n",
        "    }\n",
        ")\n",
        "\n",
        "model_results = model_results.transpose()\n",
        "model_results"
      ]
    },
    {
      "cell_type": "code",
      "execution_count": null,
      "metadata": {
        "id": "GQx0n9CKqYJ8"
      },
      "outputs": [],
      "source": [
        "model_results[\"accuracy\"] = model_results[\"accuracy\"]/100"
      ]
    },
    {
      "cell_type": "code",
      "execution_count": null,
      "metadata": {
        "colab": {
          "base_uri": "https://localhost:8080/",
          "height": 635
        },
        "id": "YD78VYOvqZuM",
        "outputId": "d7776d4f-3b2f-49e3-ec47-49e367169fa1"
      },
      "outputs": [
        {
          "output_type": "execute_result",
          "data": {
            "text/plain": [
              "<matplotlib.legend.Legend at 0x7fbeb5f5c910>"
            ]
          },
          "metadata": {},
          "execution_count": 112
        },
        {
          "output_type": "display_data",
          "data": {
            "text/plain": [
              "<Figure size 720x504 with 1 Axes>"
            ],
            "image/png": "[encoded data removed]"
          },
          "metadata": {
            "needs_background": "light"
          }
        }
      ],
      "source": [
        "model_results.plot(kind=\"bar\",figsize=(10,7)).legend(bbox_to_anchor=(1.0,1.0))"
      ]
    },
    {
      "cell_type": "code",
      "execution_count": null,
      "metadata": {
        "colab": {
          "base_uri": "https://localhost:8080/",
          "height": 635
        },
        "id": "dD8hZ-Gfqb_e",
        "outputId": "4c3d88e3-60e1-47f3-b25a-e3cea7ef6488"
      },
      "outputs": [
        {
          "output_type": "execute_result",
          "data": {
            "text/plain": [
              "<matplotlib.axes._subplots.AxesSubplot at 0x7fbeb3ccca10>"
            ]
          },
          "metadata": {},
          "execution_count": 113
        },
        {
          "output_type": "display_data",
          "data": {
            "text/plain": [
              "<Figure size 720x504 with 1 Axes>"
            ],
            "image/png": "[encoded data removed]"
          },
          "metadata": {
            "needs_background": "light"
          }
        }
      ],
      "source": [
        "model_results.sort_values(\"f1\",ascending = True)[\"f1\"].plot(kind = \"bar\", figsize = (10,7))"
      ]
    },
    {
      "cell_type": "markdown",
      "metadata": {
        "id": "CeoNljA3Hyn1"
      },
      "source": [
        "## Evaluate Model on test data"
      ]
    },
    {
      "cell_type": "code",
      "execution_count": null,
      "metadata": {
        "colab": {
          "base_uri": "https://localhost:8080/"
        },
        "id": "19IoCs16H1dN",
        "outputId": "22ba43db-65cb-4846-f51b-ef4fbc6c5156"
      },
      "outputs": [
        {
          "output_type": "stream",
          "name": "stdout",
          "text": [
            "922/922 [==============================] - 24s 26ms/step\n"
          ]
        },
        {
          "output_type": "execute_result",
          "data": {
            "text/plain": [
              "<tf.Tensor: shape=(29493,), dtype=int64, numpy=array([0, 0, 2, ..., 4, 1, 1])>"
            ]
          },
          "metadata": {},
          "execution_count": 116
        }
      ],
      "source": [
        "test_pred_probs = model_2.predict(final_test_dataset,verbose = 1)\n",
        "test_preds = tf.argmax(test_pred_probs,axis = 1)\n",
        "test_preds"
      ]
    },
    {
      "cell_type": "code",
      "execution_count": null,
      "metadata": {
        "colab": {
          "base_uri": "https://localhost:8080/"
        },
        "id": "1ykfmbZUJUDp",
        "outputId": "7a32eec5-51eb-463f-d81e-3e20ef700d67"
      },
      "outputs": [
        {
          "output_type": "execute_result",
          "data": {
            "text/plain": [
              "{'accuracy': 87.11219611433222,\n",
              " 'f1': 0.869409470729858,\n",
              " 'precision': 0.8716776917512283,\n",
              " 'recall': 0.8711219611433222}"
            ]
          },
          "metadata": {},
          "execution_count": 117
        }
      ],
      "source": [
        "test_results = calculate_results(y_true = test_labels_encoded,\n",
        "                                 y_pred = test_preds)\n",
        "test_results"
      ]
    },
    {
      "cell_type": "markdown",
      "metadata": {
        "id": "hKFzaMRmJ9Jl"
      },
      "source": [
        "## Find Most Wrong predictions"
      ]
    },
    {
      "cell_type": "code",
      "execution_count": null,
      "metadata": {
        "colab": {
          "base_uri": "https://localhost:8080/"
        },
        "id": "dGI9STt-KA1b",
        "outputId": "b48c0275-25ea-468b-b9b0-98dd694a557f"
      },
      "outputs": [
        {
          "output_type": "stream",
          "name": "stdout",
          "text": [
            "['BACKGROUND', 'BACKGROUND', 'METHODS', 'METHODS', 'RESULTS']\n"
          ]
        }
      ],
      "source": [
        "test_pred_classes = [label_encoder.classes_[pred] for pred in test_preds]\n",
        "print(test_pred_classes[:5])"
      ]
    },
    {
      "cell_type": "code",
      "execution_count": null,
      "metadata": {
        "colab": {
          "base_uri": "https://localhost:8080/",
          "height": 676
        },
        "id": "7-gTLakZKDBl",
        "outputId": "17611627-4772-412e-82a3-f7b620700fc6"
      },
      "outputs": [
        {
          "output_type": "execute_result",
          "data": {
            "text/plain": [
              "         target                                               text  \\\n",
              "0    BACKGROUND  many pathogenic processes and diseases are the...   \n",
              "1    BACKGROUND  it was recently demonstrated that supraphysiol...   \n",
              "2    BACKGROUND  in the present study , we examined the associa...   \n",
              "3    BACKGROUND  in addition , we compared plasma levels of map...   \n",
              "4       METHODS  a total of @ mi patients and @ control persons...   \n",
              "5       METHODS  plasma samples were obtained and analysed with...   \n",
              "6       METHODS  the myocardial outcomes ( salvage index and fi...   \n",
              "7       RESULTS  mi patients had @ % higher plasma levels of ma...   \n",
              "8       RESULTS  however , neither salvage index ( spearman rho...   \n",
              "9       RESULTS  likewise , masp-@ and masp-@ were elevated in ...   \n",
              "10  CONCLUSIONS  plasma levels of map@ , masp-@ , and masp-@ ar...   \n",
              "11    OBJECTIVE  we tested whether a brief cognitive behavioral...   \n",
              "12      METHODS  three hundred seventy-eight adolescents ( m ag...   \n",
              "13      METHODS  participants were assessed at pretest , postte...   \n",
              "14      RESULTS  cb group participants showed a significantly l...   \n",
              "15      RESULTS  planned contrasts indicated that cb group resu...   \n",
              "16      RESULTS  condition effects were nonsignificant for soci...   \n",
              "17  CONCLUSIONS  the finding that a brief cb group intervention...   \n",
              "18   BACKGROUND  the purpose of these two studies was to define...   \n",
              "19      METHODS  in two multicentre , dose-finding studies of t...   \n",
              "\n",
              "    line_number  total_lines   prediction  pred_prob  correct  \n",
              "0             0           10   BACKGROUND   0.643595     True  \n",
              "1             1           10   BACKGROUND   0.734454     True  \n",
              "2             2           10      METHODS   0.535263    False  \n",
              "3             3           10      METHODS   0.800324    False  \n",
              "4             4           10      RESULTS   0.591367    False  \n",
              "5             5           10      METHODS   0.828752     True  \n",
              "6             6           10      METHODS   0.665784     True  \n",
              "7             7           10      RESULTS   0.875644     True  \n",
              "8             8           10      RESULTS   0.856463     True  \n",
              "9             9           10      RESULTS   0.829497     True  \n",
              "10           10           10  CONCLUSIONS   0.698438     True  \n",
              "11            0            6    OBJECTIVE   0.674700     True  \n",
              "12            1            6      METHODS   0.757793     True  \n",
              "13            2            6      METHODS   0.767634     True  \n",
              "14            3            6      RESULTS   0.759178     True  \n",
              "15            4            6      RESULTS   0.847754     True  \n",
              "16            5            6      METHODS   0.483394    False  \n",
              "17            6            6  CONCLUSIONS   0.505891     True  \n",
              "18            0           12    OBJECTIVE   0.696162    False  \n",
              "19            1           12      METHODS   0.780778     True  "
            ],
            "text/html": [
              "\n",
              "  <div id=\"df-37a96b98-f3b1-4312-8ca9-0527efefbb80\">\n",
              "    <div class=\"colab-df-container\">\n",
              "      <div>\n",
              "<style scoped>\n",
              "    .dataframe tbody tr th:only-of-type {\n",
              "        vertical-align: middle;\n",
              "    }\n",
              "\n",
              "    .dataframe tbody tr th {\n",
              "        vertical-align: top;\n",
              "    }\n",
              "\n",
              "    .dataframe thead th {\n",
              "        text-align: right;\n",
              "    }\n",
              "</style>\n",
              "<table border=\"1\" class=\"dataframe\">\n",
              "  <thead>\n",
              "    <tr style=\"text-align: right;\">\n",
              "      <th></th>\n",
              "      <th>target</th>\n",
              "      <th>text</th>\n",
              "      <th>line_number</th>\n",
              "      <th>total_lines</th>\n",
              "      <th>prediction</th>\n",
              "      <th>pred_prob</th>\n",
              "      <th>correct</th>\n",
              "    </tr>\n",
              "  </thead>\n",
              "  <tbody>\n",
              "    <tr>\n",
              "      <th>0</th>\n",
              "      <td>BACKGROUND</td>\n",
              "      <td>many pathogenic processes and diseases are the...</td>\n",
              "      <td>0</td>\n",
              "      <td>10</td>\n",
              "      <td>BACKGROUND</td>\n",
              "      <td>0.643595</td>\n",
              "      <td>True</td>\n",
              "    </tr>\n",
              "    <tr>\n",
              "      <th>1</th>\n",
              "      <td>BACKGROUND</td>\n",
              "      <td>it was recently demonstrated that supraphysiol...</td>\n",
              "      <td>1</td>\n",
              "      <td>10</td>\n",
              "      <td>BACKGROUND</td>\n",
              "      <td>0.734454</td>\n",
              "      <td>True</td>\n",
              "    </tr>\n",
              "    <tr>\n",
              "      <th>2</th>\n",
              "      <td>BACKGROUND</td>\n",
              "      <td>in the present study , we examined the associa...</td>\n",
              "      <td>2</td>\n",
              "      <td>10</td>\n",
              "      <td>METHODS</td>\n",
              "      <td>0.535263</td>\n",
              "      <td>False</td>\n",
              "    </tr>\n",
              "    <tr>\n",
              "      <th>3</th>\n",
              "      <td>BACKGROUND</td>\n",
              "      <td>in addition , we compared plasma levels of map...</td>\n",
              "      <td>3</td>\n",
              "      <td>10</td>\n",
              "      <td>METHODS</td>\n",
              "      <td>0.800324</td>\n",
              "      <td>False</td>\n",
              "    </tr>\n",
              "    <tr>\n",
              "      <th>4</th>\n",
              "      <td>METHODS</td>\n",
              "      <td>a total of @ mi patients and @ control persons...</td>\n",
              "      <td>4</td>\n",
              "      <td>10</td>\n",
              "      <td>RESULTS</td>\n",
              "      <td>0.591367</td>\n",
              "      <td>False</td>\n",
              "    </tr>\n",
              "    <tr>\n",
              "      <th>5</th>\n",
              "      <td>METHODS</td>\n",
              "      <td>plasma samples were obtained and analysed with...</td>\n",
              "      <td>5</td>\n",
              "      <td>10</td>\n",
              "      <td>METHODS</td>\n",
              "      <td>0.828752</td>\n",
              "      <td>True</td>\n",
              "    </tr>\n",
              "    <tr>\n",
              "      <th>6</th>\n",
              "      <td>METHODS</td>\n",
              "      <td>the myocardial outcomes ( salvage index and fi...</td>\n",
              "      <td>6</td>\n",
              "      <td>10</td>\n",
              "      <td>METHODS</td>\n",
              "      <td>0.665784</td>\n",
              "      <td>True</td>\n",
              "    </tr>\n",
              "    <tr>\n",
              "      <th>7</th>\n",
              "      <td>RESULTS</td>\n",
              "      <td>mi patients had @ % higher plasma levels of ma...</td>\n",
              "      <td>7</td>\n",
              "      <td>10</td>\n",
              "      <td>RESULTS</td>\n",
              "      <td>0.875644</td>\n",
              "      <td>True</td>\n",
              "    </tr>\n",
              "    <tr>\n",
              "      <th>8</th>\n",
              "      <td>RESULTS</td>\n",
              "      <td>however , neither salvage index ( spearman rho...</td>\n",
              "      <td>8</td>\n",
              "      <td>10</td>\n",
              "      <td>RESULTS</td>\n",
              "      <td>0.856463</td>\n",
              "      <td>True</td>\n",
              "    </tr>\n",
              "    <tr>\n",
              "      <th>9</th>\n",
              "      <td>RESULTS</td>\n",
              "      <td>likewise , masp-@ and masp-@ were elevated in ...</td>\n",
              "      <td>9</td>\n",
              "      <td>10</td>\n",
              "      <td>RESULTS</td>\n",
              "      <td>0.829497</td>\n",
              "      <td>True</td>\n",
              "    </tr>\n",
              "    <tr>\n",
              "      <th>10</th>\n",
              "      <td>CONCLUSIONS</td>\n",
              "      <td>plasma levels of map@ , masp-@ , and masp-@ ar...</td>\n",
              "      <td>10</td>\n",
              "      <td>10</td>\n",
              "      <td>CONCLUSIONS</td>\n",
              "      <td>0.698438</td>\n",
              "      <td>True</td>\n",
              "    </tr>\n",
              "    <tr>\n",
              "      <th>11</th>\n",
              "      <td>OBJECTIVE</td>\n",
              "      <td>we tested whether a brief cognitive behavioral...</td>\n",
              "      <td>0</td>\n",
              "      <td>6</td>\n",
              "      <td>OBJECTIVE</td>\n",
              "      <td>0.674700</td>\n",
              "      <td>True</td>\n",
              "    </tr>\n",
              "    <tr>\n",
              "      <th>12</th>\n",
              "      <td>METHODS</td>\n",
              "      <td>three hundred seventy-eight adolescents ( m ag...</td>\n",
              "      <td>1</td>\n",
              "      <td>6</td>\n",
              "      <td>METHODS</td>\n",
              "      <td>0.757793</td>\n",
              "      <td>True</td>\n",
              "    </tr>\n",
              "    <tr>\n",
              "      <th>13</th>\n",
              "      <td>METHODS</td>\n",
              "      <td>participants were assessed at pretest , postte...</td>\n",
              "      <td>2</td>\n",
              "      <td>6</td>\n",
              "      <td>METHODS</td>\n",
              "      <td>0.767634</td>\n",
              "      <td>True</td>\n",
              "    </tr>\n",
              "    <tr>\n",
              "      <th>14</th>\n",
              "      <td>RESULTS</td>\n",
              "      <td>cb group participants showed a significantly l...</td>\n",
              "      <td>3</td>\n",
              "      <td>6</td>\n",
              "      <td>RESULTS</td>\n",
              "      <td>0.759178</td>\n",
              "      <td>True</td>\n",
              "    </tr>\n",
              "    <tr>\n",
              "      <th>15</th>\n",
              "      <td>RESULTS</td>\n",
              "      <td>planned contrasts indicated that cb group resu...</td>\n",
              "      <td>4</td>\n",
              "      <td>6</td>\n",
              "      <td>RESULTS</td>\n",
              "      <td>0.847754</td>\n",
              "      <td>True</td>\n",
              "    </tr>\n",
              "    <tr>\n",
              "      <th>16</th>\n",
              "      <td>RESULTS</td>\n",
              "      <td>condition effects were nonsignificant for soci...</td>\n",
              "      <td>5</td>\n",
              "      <td>6</td>\n",
              "      <td>METHODS</td>\n",
              "      <td>0.483394</td>\n",
              "      <td>False</td>\n",
              "    </tr>\n",
              "    <tr>\n",
              "      <th>17</th>\n",
              "      <td>CONCLUSIONS</td>\n",
              "      <td>the finding that a brief cb group intervention...</td>\n",
              "      <td>6</td>\n",
              "      <td>6</td>\n",
              "      <td>CONCLUSIONS</td>\n",
              "      <td>0.505891</td>\n",
              "      <td>True</td>\n",
              "    </tr>\n",
              "    <tr>\n",
              "      <th>18</th>\n",
              "      <td>BACKGROUND</td>\n",
              "      <td>the purpose of these two studies was to define...</td>\n",
              "      <td>0</td>\n",
              "      <td>12</td>\n",
              "      <td>OBJECTIVE</td>\n",
              "      <td>0.696162</td>\n",
              "      <td>False</td>\n",
              "    </tr>\n",
              "    <tr>\n",
              "      <th>19</th>\n",
              "      <td>METHODS</td>\n",
              "      <td>in two multicentre , dose-finding studies of t...</td>\n",
              "      <td>1</td>\n",
              "      <td>12</td>\n",
              "      <td>METHODS</td>\n",
              "      <td>0.780778</td>\n",
              "      <td>True</td>\n",
              "    </tr>\n",
              "  </tbody>\n",
              "</table>\n",
              "</div>\n",
              "      <button class=\"colab-df-convert\" onclick=\"convertToInteractive('df-37a96b98-f3b1-4312-8ca9-0527efefbb80')\"\n",
              "              title=\"Convert this dataframe to an interactive table.\"\n",
              "              style=\"display:none;\">\n",
              "        \n",
              "  <svg xmlns=\"http://www.w3.org/2000/svg\" height=\"24px\"viewBox=\"0 0 24 24\"\n",
              "       width=\"24px\">\n",
              "    <path d=\"M0 0h24v24H0V0z\" fill=\"none\"/>\n",
              "    <path d=\"M18.56 5.44l.94 2.06.94-2.06 2.06-.94-2.06-.94-.94-2.06-.94 2.06-2.06.94zm-11 1L8.5 8.5l.94-2.06 2.06-.94-2.06-.94L8.5 2.5l-.94 2.06-2.06.94zm10 10l.94 2.06.94-2.06 2.06-.94-2.06-.94-.94-2.06-.94 2.06-2.06.94z\"/><path d=\"M17.41 7.96l-1.37-1.37c-.4-.4-.92-.59-1.43-.59-.52 0-1.04.2-1.43.59L10.3 9.45l-7.72 7.72c-.78.78-.78 2.05 0 2.83L4 21.41c.39.39.9.59 1.41.59.51 0 1.02-.2 1.41-.59l7.78-7.78 2.81-2.81c.8-.78.8-2.07 0-2.86zM5.41 20L4 18.59l7.72-7.72 1.47 1.35L5.41 20z\"/>\n",
              "  </svg>\n",
              "      </button>\n",
              "      \n",
              "  <style>\n",
              "    .colab-df-container {\n",
              "      display:flex;\n",
              "      flex-wrap:wrap;\n",
              "      gap: 12px;\n",
              "    }\n",
              "\n",
              "    .colab-df-convert {\n",
              "      background-color: #E8F0FE;\n",
              "      border: none;\n",
              "      border-radius: 50%;\n",
              "      cursor: pointer;\n",
              "      display: none;\n",
              "      fill: #1967D2;\n",
              "      height: 32px;\n",
              "      padding: 0 0 0 0;\n",
              "      width: 32px;\n",
              "    }\n",
              "\n",
              "    .colab-df-convert:hover {\n",
              "      background-color: #E2EBFA;\n",
              "      box-shadow: 0px 1px 2px rgba(60, 64, 67, 0.3), 0px 1px 3px 1px rgba(60, 64, 67, 0.15);\n",
              "      fill: #174EA6;\n",
              "    }\n",
              "\n",
              "    [theme=dark] .colab-df-convert {\n",
              "      background-color: #3B4455;\n",
              "      fill: #D2E3FC;\n",
              "    }\n",
              "\n",
              "    [theme=dark] .colab-df-convert:hover {\n",
              "      background-color: #434B5C;\n",
              "      box-shadow: 0px 1px 3px 1px rgba(0, 0, 0, 0.15);\n",
              "      filter: drop-shadow(0px 1px 2px rgba(0, 0, 0, 0.3));\n",
              "      fill: #FFFFFF;\n",
              "    }\n",
              "  </style>\n",
              "\n",
              "      <script>\n",
              "        const buttonEl =\n",
              "          document.querySelector('#df-37a96b98-f3b1-4312-8ca9-0527efefbb80 button.colab-df-convert');\n",
              "        buttonEl.style.display =\n",
              "          google.colab.kernel.accessAllowed ? 'block' : 'none';\n",
              "\n",
              "        async function convertToInteractive(key) {\n",
              "          const element = document.querySelector('#df-37a96b98-f3b1-4312-8ca9-0527efefbb80');\n",
              "          const dataTable =\n",
              "            await google.colab.kernel.invokeFunction('convertToInteractive',\n",
              "                                                     [key], {});\n",
              "          if (!dataTable) return;\n",
              "\n",
              "          const docLinkHtml = 'Like what you see? Visit the ' +\n",
              "            '<a target=\"_blank\" href=https://colab.research.google.com/notebooks/data_table.ipynb>data table notebook</a>'\n",
              "            + ' to learn more about interactive tables.';\n",
              "          element.innerHTML = '';\n",
              "          dataTable['output_type'] = 'display_data';\n",
              "          await google.colab.output.renderOutput(dataTable, element);\n",
              "          const docLink = document.createElement('div');\n",
              "          docLink.innerHTML = docLinkHtml;\n",
              "          element.appendChild(docLink);\n",
              "        }\n",
              "      </script>\n",
              "    </div>\n",
              "  </div>\n",
              "  "
            ]
          },
          "metadata": {},
          "execution_count": 120
        }
      ],
      "source": [
        "test_df[\"prediction\"] = test_pred_classes\n",
        "test_df[\"pred_prob\"] = tf.reduce_max(test_pred_probs, axis=1).numpy()\n",
        "test_df[\"correct\"] = test_df[\"prediction\"] == test_df[\"target\"]\n",
        "test_df.head(20)"
      ]
    },
    {
      "cell_type": "code",
      "execution_count": null,
      "metadata": {
        "colab": {
          "base_uri": "https://localhost:8080/",
          "height": 407
        },
        "id": "nViGP0XvKIgX",
        "outputId": "ce97d6ff-f6e2-437a-c91a-cb9e0a608c0a"
      },
      "outputs": [
        {
          "output_type": "execute_result",
          "data": {
            "text/plain": [
              "            target                                               text  \\\n",
              "24135  CONCLUSIONS           national clinical trials registry nct@ .   \n",
              "13239  CONCLUSIONS                                        isrctn@ . )   \n",
              "4057   CONCLUSIONS                      unique identifier : isrctn@ .   \n",
              "9159    BACKGROUND  to examine the prognostic value of markers of ...   \n",
              "13897      RESULTS  costs were assessed from a us perspective , an...   \n",
              "16945      RESULTS  randomization , stratified by site ( @ public ...   \n",
              "17639      RESULTS  it was carried out in communities based in two...   \n",
              "19062  CONCLUSIONS             clinicaltrials.gov identifier : nct@ .   \n",
              "26363      RESULTS  the patients in both groups were treated by ch...   \n",
              "22501  CONCLUSIONS  stone expulsion rate was significantly high in...   \n",
              "\n",
              "       line_number  total_lines  prediction  pred_prob  correct  \n",
              "24135           11           11  BACKGROUND   0.974232    False  \n",
              "13239           14           14  BACKGROUND   0.948156    False  \n",
              "4057             7            7  BACKGROUND   0.925466    False  \n",
              "9159             0            8   OBJECTIVE   0.905588    False  \n",
              "13897            3           13     METHODS   0.904307    False  \n",
              "16945            4           21     METHODS   0.903307    False  \n",
              "17639            2           13     METHODS   0.901451    False  \n",
              "19062           21           21  BACKGROUND   0.900762    False  \n",
              "26363            4           16     METHODS   0.898969    False  \n",
              "22501            8           11     RESULTS   0.897555    False  "
            ],
            "text/html": [
              "\n",
              "  <div id=\"df-036571d3-3155-413c-aa70-cff7ab51a102\">\n",
              "    <div class=\"colab-df-container\">\n",
              "      <div>\n",
              "<style scoped>\n",
              "    .dataframe tbody tr th:only-of-type {\n",
              "        vertical-align: middle;\n",
              "    }\n",
              "\n",
              "    .dataframe tbody tr th {\n",
              "        vertical-align: top;\n",
              "    }\n",
              "\n",
              "    .dataframe thead th {\n",
              "        text-align: right;\n",
              "    }\n",
              "</style>\n",
              "<table border=\"1\" class=\"dataframe\">\n",
              "  <thead>\n",
              "    <tr style=\"text-align: right;\">\n",
              "      <th></th>\n",
              "      <th>target</th>\n",
              "      <th>text</th>\n",
              "      <th>line_number</th>\n",
              "      <th>total_lines</th>\n",
              "      <th>prediction</th>\n",
              "      <th>pred_prob</th>\n",
              "      <th>correct</th>\n",
              "    </tr>\n",
              "  </thead>\n",
              "  <tbody>\n",
              "    <tr>\n",
              "      <th>24135</th>\n",
              "      <td>CONCLUSIONS</td>\n",
              "      <td>national clinical trials registry nct@ .</td>\n",
              "      <td>11</td>\n",
              "      <td>11</td>\n",
              "      <td>BACKGROUND</td>\n",
              "      <td>0.974232</td>\n",
              "      <td>False</td>\n",
              "    </tr>\n",
              "    <tr>\n",
              "      <th>13239</th>\n",
              "      <td>CONCLUSIONS</td>\n",
              "      <td>isrctn@ . )</td>\n",
              "      <td>14</td>\n",
              "      <td>14</td>\n",
              "      <td>BACKGROUND</td>\n",
              "      <td>0.948156</td>\n",
              "      <td>False</td>\n",
              "    </tr>\n",
              "    <tr>\n",
              "      <th>4057</th>\n",
              "      <td>CONCLUSIONS</td>\n",
              "      <td>unique identifier : isrctn@ .</td>\n",
              "      <td>7</td>\n",
              "      <td>7</td>\n",
              "      <td>BACKGROUND</td>\n",
              "      <td>0.925466</td>\n",
              "      <td>False</td>\n",
              "    </tr>\n",
              "    <tr>\n",
              "      <th>9159</th>\n",
              "      <td>BACKGROUND</td>\n",
              "      <td>to examine the prognostic value of markers of ...</td>\n",
              "      <td>0</td>\n",
              "      <td>8</td>\n",
              "      <td>OBJECTIVE</td>\n",
              "      <td>0.905588</td>\n",
              "      <td>False</td>\n",
              "    </tr>\n",
              "    <tr>\n",
              "      <th>13897</th>\n",
              "      <td>RESULTS</td>\n",
              "      <td>costs were assessed from a us perspective , an...</td>\n",
              "      <td>3</td>\n",
              "      <td>13</td>\n",
              "      <td>METHODS</td>\n",
              "      <td>0.904307</td>\n",
              "      <td>False</td>\n",
              "    </tr>\n",
              "    <tr>\n",
              "      <th>16945</th>\n",
              "      <td>RESULTS</td>\n",
              "      <td>randomization , stratified by site ( @ public ...</td>\n",
              "      <td>4</td>\n",
              "      <td>21</td>\n",
              "      <td>METHODS</td>\n",
              "      <td>0.903307</td>\n",
              "      <td>False</td>\n",
              "    </tr>\n",
              "    <tr>\n",
              "      <th>17639</th>\n",
              "      <td>RESULTS</td>\n",
              "      <td>it was carried out in communities based in two...</td>\n",
              "      <td>2</td>\n",
              "      <td>13</td>\n",
              "      <td>METHODS</td>\n",
              "      <td>0.901451</td>\n",
              "      <td>False</td>\n",
              "    </tr>\n",
              "    <tr>\n",
              "      <th>19062</th>\n",
              "      <td>CONCLUSIONS</td>\n",
              "      <td>clinicaltrials.gov identifier : nct@ .</td>\n",
              "      <td>21</td>\n",
              "      <td>21</td>\n",
              "      <td>BACKGROUND</td>\n",
              "      <td>0.900762</td>\n",
              "      <td>False</td>\n",
              "    </tr>\n",
              "    <tr>\n",
              "      <th>26363</th>\n",
              "      <td>RESULTS</td>\n",
              "      <td>the patients in both groups were treated by ch...</td>\n",
              "      <td>4</td>\n",
              "      <td>16</td>\n",
              "      <td>METHODS</td>\n",
              "      <td>0.898969</td>\n",
              "      <td>False</td>\n",
              "    </tr>\n",
              "    <tr>\n",
              "      <th>22501</th>\n",
              "      <td>CONCLUSIONS</td>\n",
              "      <td>stone expulsion rate was significantly high in...</td>\n",
              "      <td>8</td>\n",
              "      <td>11</td>\n",
              "      <td>RESULTS</td>\n",
              "      <td>0.897555</td>\n",
              "      <td>False</td>\n",
              "    </tr>\n",
              "  </tbody>\n",
              "</table>\n",
              "</div>\n",
              "      <button class=\"colab-df-convert\" onclick=\"convertToInteractive('df-036571d3-3155-413c-aa70-cff7ab51a102')\"\n",
              "              title=\"Convert this dataframe to an interactive table.\"\n",
              "              style=\"display:none;\">\n",
              "        \n",
              "  <svg xmlns=\"http://www.w3.org/2000/svg\" height=\"24px\"viewBox=\"0 0 24 24\"\n",
              "       width=\"24px\">\n",
              "    <path d=\"M0 0h24v24H0V0z\" fill=\"none\"/>\n",
              "    <path d=\"M18.56 5.44l.94 2.06.94-2.06 2.06-.94-2.06-.94-.94-2.06-.94 2.06-2.06.94zm-11 1L8.5 8.5l.94-2.06 2.06-.94-2.06-.94L8.5 2.5l-.94 2.06-2.06.94zm10 10l.94 2.06.94-2.06 2.06-.94-2.06-.94-.94-2.06-.94 2.06-2.06.94z\"/><path d=\"M17.41 7.96l-1.37-1.37c-.4-.4-.92-.59-1.43-.59-.52 0-1.04.2-1.43.59L10.3 9.45l-7.72 7.72c-.78.78-.78 2.05 0 2.83L4 21.41c.39.39.9.59 1.41.59.51 0 1.02-.2 1.41-.59l7.78-7.78 2.81-2.81c.8-.78.8-2.07 0-2.86zM5.41 20L4 18.59l7.72-7.72 1.47 1.35L5.41 20z\"/>\n",
              "  </svg>\n",
              "      </button>\n",
              "      \n",
              "  <style>\n",
              "    .colab-df-container {\n",
              "      display:flex;\n",
              "      flex-wrap:wrap;\n",
              "      gap: 12px;\n",
              "    }\n",
              "\n",
              "    .colab-df-convert {\n",
              "      background-color: #E8F0FE;\n",
              "      border: none;\n",
              "      border-radius: 50%;\n",
              "      cursor: pointer;\n",
              "      display: none;\n",
              "      fill: #1967D2;\n",
              "      height: 32px;\n",
              "      padding: 0 0 0 0;\n",
              "      width: 32px;\n",
              "    }\n",
              "\n",
              "    .colab-df-convert:hover {\n",
              "      background-color: #E2EBFA;\n",
              "      box-shadow: 0px 1px 2px rgba(60, 64, 67, 0.3), 0px 1px 3px 1px rgba(60, 64, 67, 0.15);\n",
              "      fill: #174EA6;\n",
              "    }\n",
              "\n",
              "    [theme=dark] .colab-df-convert {\n",
              "      background-color: #3B4455;\n",
              "      fill: #D2E3FC;\n",
              "    }\n",
              "\n",
              "    [theme=dark] .colab-df-convert:hover {\n",
              "      background-color: #434B5C;\n",
              "      box-shadow: 0px 1px 3px 1px rgba(0, 0, 0, 0.15);\n",
              "      filter: drop-shadow(0px 1px 2px rgba(0, 0, 0, 0.3));\n",
              "      fill: #FFFFFF;\n",
              "    }\n",
              "  </style>\n",
              "\n",
              "      <script>\n",
              "        const buttonEl =\n",
              "          document.querySelector('#df-036571d3-3155-413c-aa70-cff7ab51a102 button.colab-df-convert');\n",
              "        buttonEl.style.display =\n",
              "          google.colab.kernel.accessAllowed ? 'block' : 'none';\n",
              "\n",
              "        async function convertToInteractive(key) {\n",
              "          const element = document.querySelector('#df-036571d3-3155-413c-aa70-cff7ab51a102');\n",
              "          const dataTable =\n",
              "            await google.colab.kernel.invokeFunction('convertToInteractive',\n",
              "                                                     [key], {});\n",
              "          if (!dataTable) return;\n",
              "\n",
              "          const docLinkHtml = 'Like what you see? Visit the ' +\n",
              "            '<a target=\"_blank\" href=https://colab.research.google.com/notebooks/data_table.ipynb>data table notebook</a>'\n",
              "            + ' to learn more about interactive tables.';\n",
              "          element.innerHTML = '';\n",
              "          dataTable['output_type'] = 'display_data';\n",
              "          await google.colab.output.renderOutput(dataTable, element);\n",
              "          const docLink = document.createElement('div');\n",
              "          docLink.innerHTML = docLinkHtml;\n",
              "          element.appendChild(docLink);\n",
              "        }\n",
              "      </script>\n",
              "    </div>\n",
              "  </div>\n",
              "  "
            ]
          },
          "metadata": {},
          "execution_count": 121
        }
      ],
      "source": [
        "top_10_wrong = test_df[test_df[\"correct\"] == False].sort_values(\"pred_prob\", ascending=False)[:10]\n",
        "top_10_wrong"
      ]
    },
    {
      "cell_type": "markdown",
      "metadata": {
        "id": "A5S8Tp69KLRV"
      },
      "source": [
        "## Make Example Predictions"
      ]
    },
    {
      "cell_type": "code",
      "source": [
        "from itertools import groupby, chain\n",
        "import json\n",
        "import nltk\n",
        "from nltk import tokenize\n",
        "import nltk.data\n",
        "nltk.download('punkt')"
      ],
      "metadata": {
        "colab": {
          "base_uri": "https://localhost:8080/"
        },
        "id": "OOsRYO1K-TkC",
        "outputId": "4ca5d8db-ee31-47ce-9713-c6c1dcf7d274"
      },
      "execution_count": null,
      "outputs": [
        {
          "output_type": "stream",
          "name": "stderr",
          "text": [
            "[nltk_data] Downloading package punkt to /root/nltk_data...\n",
            "[nltk_data]   Unzipping tokenizers/punkt.zip.\n"
          ]
        },
        {
          "output_type": "execute_result",
          "data": {
            "text/plain": [
              "True"
            ]
          },
          "metadata": {},
          "execution_count": 88
        }
      ]
    },
    {
      "cell_type": "code",
      "execution_count": null,
      "metadata": {
        "id": "sQpolPXYs0ez"
      },
      "outputs": [],
      "source": [
        "def prepro(example_abstract):\n",
        "    grouped = groupby(example_abstract, str.isdigit)\n",
        "    processed_abstract = ''.join(chain.from_iterable(\"@\" if k else g for k,g in grouped))\n",
        "    return processed_abstract"
      ]
    },
    {
      "cell_type": "code",
      "execution_count": null,
      "metadata": {
        "id": "TzKHkm9EKOii"
      },
      "outputs": [],
      "source": [
        "import re\n",
        "alphabets= \"([A-Za-z])\"\n",
        "digits = \"([0-9])\"\n",
        "prefixes = \"(Mr|St|Mrs|Ms|Dr)[.]\"\n",
        "suffixes = \"(Inc|Ltd|Jr|Sr|Co)\"\n",
        "starters = \"(Mr|Mrs|Ms|Dr|He\\s|She\\s|It\\s|They\\s|Their\\s|Our\\s|We\\s|But\\s|However\\s|That\\s|This\\s|Wherever)\"\n",
        "acronyms = \"([A-Z][.][A-Z][.](?:[A-Z][.])?)\"\n",
        "websites = \"[.](com|net|org|io|gov)\"\n",
        "\n",
        "def split_into_sentences(text):\n",
        "    text = \" \" + text + \"  \"\n",
        "    text = text.replace(\"\\n\",\" \")\n",
        "    text = re.sub(prefixes,\"\\\\1<prd>\",text)\n",
        "    text = re.sub(websites,\"<prd>\\\\1\",text)\n",
        "    if \"Ph.D\" in text: text = text.replace(\"Ph.D.\",\"Ph<prd>D<prd>\")\n",
        "    text = re.sub(\"\\s\" + alphabets + \"[.] \",\" \\\\1<prd> \",text)\n",
        "    text = re.sub(acronyms+\" \"+starters,\"\\\\1<stop> \\\\2\",text)\n",
        "    text = re.sub(alphabets + \"[.]\" + alphabets + \"[.]\" + alphabets + \"[.]\",\"\\\\1<prd>\\\\2<prd>\\\\3<prd>\",text)\n",
        "    text = re.sub(alphabets + \"[.]\" + alphabets + \"[.]\",\"\\\\1<prd>\\\\2<prd>\",text)\n",
        "    text = re.sub(\" \"+suffixes+\"[.] \"+starters,\" \\\\1<stop> \\\\2\",text)\n",
        "    text = re.sub(\" \"+suffixes+\"[.]\",\" \\\\1<prd>\",text)\n",
        "    text = re.sub(\" \" + alphabets + \"[.]\",\" \\\\1<prd>\",text)\n",
        "    text = re.sub(digits + \"[.]\" + digits,\"\\\\1<prd>\\\\2\",text)\n",
        "    if \"”\" in text: text = text.replace(\".”\",\"”.\")\n",
        "    if \"\\\"\" in text: text = text.replace(\".\\\"\",\"\\\".\")\n",
        "    if \"!\" in text: text = text.replace(\"!\\\"\",\"\\\"!\")\n",
        "    if \"?\" in text: text = text.replace(\"?\\\"\",\"\\\"?\")\n",
        "    text = text.replace(\".\",\".<stop>\")\n",
        "    text = text.replace(\"?\",\"?<stop>\")\n",
        "    text = text.replace(\"!\",\"!<stop>\")\n",
        "    text = text.replace(\"<prd>\",\".\")\n",
        "    sentences = text.split(\"<stop>\")\n",
        "    sentences = sentences[:-1]\n",
        "    sentences = [s.strip() for s in sentences]\n",
        "    return sentences"
      ]
    },
    {
      "cell_type": "code",
      "execution_count": null,
      "metadata": {
        "id": "M6XahixMTzqF"
      },
      "outputs": [],
      "source": [
        "# Get total number of lines\n",
        "def make_dict(abstract_lines):\n",
        "    total_lines_in_sample = len(abstract_lines)\n",
        "\n",
        "    # Go through each line in abstract and create a list of dictionaries containing features for each line\n",
        "    sample_lines = []\n",
        "    for i, line in enumerate(abstract_lines):\n",
        "        sample_dict = {}\n",
        "        sample_dict[\"text\"] = str(line)\n",
        "        sample_dict[\"line_number\"] = i\n",
        "        sample_dict[\"total_lines\"] = total_lines_in_sample - 1\n",
        "        sample_lines.append(sample_dict)\n",
        "    return sample_lines"
      ]
    },
    {
      "cell_type": "code",
      "execution_count": null,
      "metadata": {
        "id": "f32JmzfUvrkD"
      },
      "outputs": [],
      "source": [
        "def to_chars(example_abstract):\n",
        "    abstract_chars = [split_to_chars(sentence) for sentence in example_abstract]\n",
        "    return abstract_chars"
      ]
    },
    {
      "cell_type": "code",
      "execution_count": null,
      "metadata": {
        "id": "FyxlXN3ivWcM"
      },
      "outputs": [],
      "source": [
        "def encode_line_numbers(sample):\n",
        "    test_abstract_line_numbers = [line[\"line_number\"] for line in sample]\n",
        "    test_abstract_line_numbers_one_hot = tf.one_hot(test_abstract_line_numbers, depth=15) \n",
        "    return test_abstract_line_numbers_one_hot"
      ]
    },
    {
      "cell_type": "code",
      "execution_count": null,
      "metadata": {
        "id": "ZFP-Pa5Svg98"
      },
      "outputs": [],
      "source": [
        "def encode_total_line_numbers(sample):\n",
        "    test_abstract_total_lines = [line[\"total_lines\"] for line in sample]\n",
        "    test_abstract_total_lines_one_hot = tf.one_hot(test_abstract_total_lines, depth=20)\n",
        "    return test_abstract_total_lines_one_hot"
      ]
    },
    {
      "cell_type": "code",
      "source": [
        "def make_predictions(document):\n",
        "  actual_sentence = split_into_sentences(document)\n",
        "  processed_abstract = prepro(document)\n",
        "  sentences = split_into_sentences(processed_abstract)\n",
        "  data = make_dict(sentences)\n",
        "  characters = to_chars(sentences)\n",
        "  lines_encoded = encode_line_numbers(data)\n",
        "  total_lines_encoded = encode_total_line_numbers(data)\n",
        "  \n",
        "  pred_probs = model.predict(x=(lines_encoded,total_lines_encoded,tf.constant(sentences),tf.constant(characters)))\n",
        "\n",
        "  predictions = tf.argmax(pred_probs, axis=1)\n",
        "  pred_classes = [label_encoder.classes_[i] for i in predictions]\n",
        "\n",
        "  \n",
        "  for x in actual_sentence:\n",
        "    print(x)\n",
        "\n",
        "  print(\n",
        "  '''\n",
        "  ==============================CLASSIFYING==================================\n",
        "  ''')\n",
        "\n",
        "  for i, line in enumerate(actual_sentence):\n",
        "    print(f\"{pred_classes[i]}: {line}\")"
      ],
      "metadata": {
        "id": "h8lNCbxJ-VEJ"
      },
      "execution_count": null,
      "outputs": []
    },
    {
      "cell_type": "code",
      "source": [
        "!wget \"https://raw.githubusercontent.com/sarumangla/Multi-Tag-Assignment/master/Example_Doc1.json\"\n",
        "!wget \"https://raw.githubusercontent.com/sarumangla/Multi-Tag-Assignment/master/Example_Doc2.json\""
      ],
      "metadata": {
        "id": "NGXRbnyr-jKu"
      },
      "execution_count": null,
      "outputs": []
    },
    {
      "cell_type": "code",
      "execution_count": null,
      "metadata": {
        "id": "efwODB8ofIkV"
      },
      "outputs": [],
      "source": [
        "with open(\"/content/Example_Doc1.json\",\"r\") as f:\n",
        "    doc = json.load(f)"
      ]
    },
    {
      "cell_type": "code",
      "source": [
        "make_predictions(doc[0][\"abstract\"])"
      ],
      "metadata": {
        "colab": {
          "base_uri": "https://localhost:8080/"
        },
        "id": "sJR0T-FjCTj2",
        "outputId": "461debe9-b1a5-4eaa-e992-97f5e2d1f493"
      },
      "execution_count": null,
      "outputs": [
        {
          "output_type": "stream",
          "name": "stdout",
          "text": [
            "This RCT examined the efficacy of a manualized social intervention for children with HFASDs.\n",
            "Participants were randomly assigned to treatment or wait-list conditions.\n",
            "Treatment included instruction and therapeutic activities targeting social skills, face-emotion recognition, interest expansion, and interpretation of non-literal language.\n",
            "A response-cost program was applied to reduce problem behaviors and foster skills acquisition.\n",
            "Significant treatment effects were found for five of seven primary outcome measures (parent ratings and direct child measures).\n",
            "Secondary measures based on staff ratings (treatment group only) corroborated gains reported by parents.\n",
            "High levels of parent, child and staff satisfaction were reported, along with high levels of treatment fidelity.\n",
            "Standardized effect size estimates were primarily in the medium and large ranges and favored the treatment group.\n",
            "\n",
            "  ==============================CLASSIFYING==================================\n",
            "  \n",
            "OBJECTIVE: This RCT examined the efficacy of a manualized social intervention for children with HFASDs.\n",
            "METHODS: Participants were randomly assigned to treatment or wait-list conditions.\n",
            "METHODS: Treatment included instruction and therapeutic activities targeting social skills, face-emotion recognition, interest expansion, and interpretation of non-literal language.\n",
            "METHODS: A response-cost program was applied to reduce problem behaviors and foster skills acquisition.\n",
            "RESULTS: Significant treatment effects were found for five of seven primary outcome measures (parent ratings and direct child measures).\n",
            "METHODS: Secondary measures based on staff ratings (treatment group only) corroborated gains reported by parents.\n",
            "RESULTS: High levels of parent, child and staff satisfaction were reported, along with high levels of treatment fidelity.\n",
            "RESULTS: Standardized effect size estimates were primarily in the medium and large ranges and favored the treatment group.\n"
          ]
        }
      ]
    },
    {
      "cell_type": "code",
      "source": [
        "with open(\"/content/Example_Doc2.json\",\"r\") as f:\n",
        "    doc = json.load(f)"
      ],
      "metadata": {
        "id": "CmTVLZaxFP_4"
      },
      "execution_count": null,
      "outputs": []
    },
    {
      "cell_type": "code",
      "source": [
        "make_predictions(doc[0][\"abstract\"])"
      ],
      "metadata": {
        "colab": {
          "base_uri": "https://localhost:8080/"
        },
        "id": "otCsoQ5cK5gB",
        "outputId": "ce0e8c51-16e5-454f-f273-7445ebb6429f"
      },
      "execution_count": null,
      "outputs": [
        {
          "output_type": "stream",
          "name": "stdout",
          "text": [
            "Hepatitis C virus (HCV) and alcoholic liver disease (ALD), either alone or in combination, count for more than two thirds of all liver diseases in the Western world.\n",
            "There is no safe level of drinking in HCV-infected patients and the most effective goal for these patients is total abstinence.\n",
            "Baclofen, a GABA(B) receptor agonist, represents a promising pharmacotherapy for alcohol dependence (AD).\n",
            "Previously, we performed a randomized clinical trial (RCT), which demonstrated the safety and efficacy of baclofen in patients affected by AD and cirrhosis.\n",
            "The goal of this post-hoc analysis was to explore baclofen's effect in a subgroup of alcohol-dependent HCV-infected cirrhotic patients.\n",
            "Any patient with HCV infection was selected for this analysis.\n",
            "Among the 84 subjects randomized in the main trial, 24 alcohol-dependent cirrhotic patients had a HCV infection; 12 received baclofen 10mg t.i.d. and 12 received placebo for 12-weeks.\n",
            "With respect to the placebo group (3/12, 25.0%), a significantly higher number of patients who achieved and maintained total alcohol abstinence was found in the baclofen group (10/12, 83.3%; p=0.0123).\n",
            "Furthermore, in the baclofen group, compared to placebo, there was a significantly higher increase in albumin values from baseline (p=0.0132) and a trend toward a significant reduction in INR levels from baseline (p=0.0716).\n",
            "In conclusion, baclofen was safe and significantly more effective than placebo in promoting alcohol abstinence, and improving some Liver Function Tests (LFTs) (i.e. albumin, INR) in alcohol-dependent HCV-infected cirrhotic patients.\n",
            "Baclofen may represent a clinically relevant alcohol pharmacotherapy for these patients.\n",
            "\n",
            "  ==============================CLASSIFYING==================================\n",
            "  \n",
            "BACKGROUND: Hepatitis C virus (HCV) and alcoholic liver disease (ALD), either alone or in combination, count for more than two thirds of all liver diseases in the Western world.\n",
            "BACKGROUND: There is no safe level of drinking in HCV-infected patients and the most effective goal for these patients is total abstinence.\n",
            "BACKGROUND: Baclofen, a GABA(B) receptor agonist, represents a promising pharmacotherapy for alcohol dependence (AD).\n",
            "METHODS: Previously, we performed a randomized clinical trial (RCT), which demonstrated the safety and efficacy of baclofen in patients affected by AD and cirrhosis.\n",
            "OBJECTIVE: The goal of this post-hoc analysis was to explore baclofen's effect in a subgroup of alcohol-dependent HCV-infected cirrhotic patients.\n",
            "METHODS: Any patient with HCV infection was selected for this analysis.\n",
            "RESULTS: Among the 84 subjects randomized in the main trial, 24 alcohol-dependent cirrhotic patients had a HCV infection; 12 received baclofen 10mg t.i.d. and 12 received placebo for 12-weeks.\n",
            "RESULTS: With respect to the placebo group (3/12, 25.0%), a significantly higher number of patients who achieved and maintained total alcohol abstinence was found in the baclofen group (10/12, 83.3%; p=0.0123).\n",
            "RESULTS: Furthermore, in the baclofen group, compared to placebo, there was a significantly higher increase in albumin values from baseline (p=0.0132) and a trend toward a significant reduction in INR levels from baseline (p=0.0716).\n",
            "RESULTS: In conclusion, baclofen was safe and significantly more effective than placebo in promoting alcohol abstinence, and improving some Liver Function Tests (LFTs) (i.e. albumin, INR) in alcohol-dependent HCV-infected cirrhotic patients.\n",
            "CONCLUSIONS: Baclofen may represent a clinically relevant alcohol pharmacotherapy for these patients.\n"
          ]
        }
      ]
    },
    {
      "cell_type": "code",
      "source": [
        "doc = \"In mice, social defeat stress (SDS), an ethological model for psychosocial stress, induces sleep. Such sleep could enable resilience, but how stress promotes sleep is unclear. Activity-dependent tagging revealed a subset of ventral tegmental area γ-aminobutyric acid (GABA)-somatostatin (VTAVgat-Sst) cells that sense stress and drive non-rapid eye movement (NREM) and REM sleep through the lateral hypothalamus and also inhibit corticotropin-releasing factor (CRF) release in the paraventricular hypothalamus. Transient stress enhances the activity of VTAVgat-Sst cells for several hours, allowing them to exert their sleep effects persistently. Lesioning of VTAVgat-Sst cells abolished SDS-induced sleep; without it, anxiety and corticosterone concentrations remained increased after stress. Thus, a specific circuit allows animals to restore mental and body functions by sleeping, potentially providing a refined route for treating anxiety disorders.\"\n",
        "make_predictions(doc)"
      ],
      "metadata": {
        "id": "xjjJoJmFK6rx",
        "colab": {
          "base_uri": "https://localhost:8080/"
        },
        "outputId": "6296791e-e595-4aad-bf1d-1e347a1dbcb5"
      },
      "execution_count": null,
      "outputs": [
        {
          "output_type": "stream",
          "name": "stdout",
          "text": [
            "In mice, social defeat stress (SDS), an ethological model for psychosocial stress, induces sleep.\n",
            "Such sleep could enable resilience, but how stress promotes sleep is unclear.\n",
            "Activity-dependent tagging revealed a subset of ventral tegmental area γ-aminobutyric acid (GABA)-somatostatin (VTAVgat-Sst) cells that sense stress and drive non-rapid eye movement (NREM) and REM sleep through the lateral hypothalamus and also inhibit corticotropin-releasing factor (CRF) release in the paraventricular hypothalamus.\n",
            "Transient stress enhances the activity of VTAVgat-Sst cells for several hours, allowing them to exert their sleep effects persistently.\n",
            "Lesioning of VTAVgat-Sst cells abolished SDS-induced sleep; without it, anxiety and corticosterone concentrations remained increased after stress.\n",
            "Thus, a specific circuit allows animals to restore mental and body functions by sleeping, potentially providing a refined route for treating anxiety disorders.\n",
            "\n",
            "  ==============================CLASSIFYING==================================\n",
            "  \n",
            "BACKGROUND: In mice, social defeat stress (SDS), an ethological model for psychosocial stress, induces sleep.\n",
            "BACKGROUND: Such sleep could enable resilience, but how stress promotes sleep is unclear.\n",
            "BACKGROUND: Activity-dependent tagging revealed a subset of ventral tegmental area γ-aminobutyric acid (GABA)-somatostatin (VTAVgat-Sst) cells that sense stress and drive non-rapid eye movement (NREM) and REM sleep through the lateral hypothalamus and also inhibit corticotropin-releasing factor (CRF) release in the paraventricular hypothalamus.\n",
            "CONCLUSIONS: Transient stress enhances the activity of VTAVgat-Sst cells for several hours, allowing them to exert their sleep effects persistently.\n",
            "RESULTS: Lesioning of VTAVgat-Sst cells abolished SDS-induced sleep; without it, anxiety and corticosterone concentrations remained increased after stress.\n",
            "CONCLUSIONS: Thus, a specific circuit allows animals to restore mental and body functions by sleeping, potentially providing a refined route for treating anxiety disorders.\n"
          ]
        }
      ]
    },
    {
      "cell_type": "code",
      "source": [],
      "metadata": {
        "id": "I2MXDPHtBQiz"
      },
      "execution_count": null,
      "outputs": []
    }
  ],
  "metadata": {
    "accelerator": "GPU",
    "colab": {
      "provenance": []
    },
    "kernelspec": {
      "display_name": "Python 3",
      "name": "python3"
    },
    "language_info": {
      "name": "python"
    }
  },
  "nbformat": 4,
  "nbformat_minor": 0
}
